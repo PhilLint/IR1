{
 "cells": [
  {
   "cell_type": "markdown",
   "metadata": {},
   "source": [
    "Pointwise LTR"
   ]
  },
  {
   "cell_type": "code",
   "execution_count": 2,
   "metadata": {},
   "outputs": [],
   "source": [
    "import pointwise_LTR\n",
    "import dataset\n",
    "data = dataset.get_dataset().get_data_folds()[0]\n",
    "data.read_data()"
   ]
  },
  {
   "cell_type": "code",
   "execution_count": 3,
   "metadata": {},
   "outputs": [
    {
     "name": "stdout",
     "output_type": "stream",
     "text": [
      "\n",
      "Testing learning_rate = 0.1 and n_hidden = 100\n",
      "Epoch: 0, ndcg: 0.8372845395244832\n",
      "Best parameters: {'learning_rate': 0.1, 'n_hidden': 100, 'epoch': 0}\n",
      "Epoch: 1, ndcg: 0.8409215947099499\n",
      "Best parameters: {'learning_rate': 0.1, 'n_hidden': 100, 'epoch': 1}\n",
      "Epoch: 2, ndcg: 0.8386336015572483\n",
      "\n",
      "Testing learning_rate = 0.1 and n_hidden = 150\n",
      "Epoch: 0, ndcg: 0.8397322719455137\n",
      "Epoch: 1, ndcg: 0.839469828288183\n",
      "\n",
      "Testing learning_rate = 0.1 and n_hidden = 200\n",
      "Epoch: 0, ndcg: 0.8359616565065386\n",
      "Epoch: 1, ndcg: 0.8423336204755761\n",
      "Best parameters: {'learning_rate': 0.1, 'n_hidden': 200, 'epoch': 1}\n",
      "Epoch: 2, ndcg: 0.8394297229885281\n",
      "\n",
      "Testing learning_rate = 0.1 and n_hidden = 250\n",
      "Epoch: 0, ndcg: 0.82587087777775\n",
      "Epoch: 1, ndcg: 0.8398108704577376\n",
      "Epoch: 2, ndcg: 0.8417628307838737\n",
      "Epoch: 3, ndcg: 0.8352022425805852\n",
      "\n",
      "Testing learning_rate = 0.1 and n_hidden = 300\n",
      "Epoch: 0, ndcg: 0.8404778856287425\n",
      "Epoch: 1, ndcg: 0.8383491121745025\n",
      "\n",
      "Testing learning_rate = 0.1 and n_hidden = 350\n",
      "Epoch: 0, ndcg: 0.7898503147414678\n",
      "Epoch: 1, ndcg: 0.8427539402491123\n",
      "Best parameters: {'learning_rate': 0.1, 'n_hidden': 350, 'epoch': 1}\n",
      "Epoch: 2, ndcg: 0.8415067181775729\n",
      "\n",
      "Testing learning_rate = 0.1 and n_hidden = 400\n",
      "Epoch: 0, ndcg: 0.8298545977020239\n",
      "Epoch: 1, ndcg: 0.8337763351557391\n",
      "Epoch: 2, ndcg: 0.8341575961432296\n",
      "Epoch: 3, ndcg: 0.8421745276072619\n",
      "Epoch: 4, ndcg: 0.8419333787812262\n",
      "\n",
      "Testing learning_rate = 0.01 and n_hidden = 100\n",
      "Epoch: 0, ndcg: 0.84116396077319\n",
      "Epoch: 1, ndcg: 0.8430440910983671\n",
      "Best parameters: {'learning_rate': 0.01, 'n_hidden': 100, 'epoch': 1}\n",
      "Epoch: 2, ndcg: 0.8449528633012957\n",
      "Best parameters: {'learning_rate': 0.01, 'n_hidden': 100, 'epoch': 2}\n",
      "Epoch: 3, ndcg: 0.8453388410028233\n",
      "Best parameters: {'learning_rate': 0.01, 'n_hidden': 100, 'epoch': 3}\n",
      "Epoch: 4, ndcg: 0.8459499176042325\n",
      "Best parameters: {'learning_rate': 0.01, 'n_hidden': 100, 'epoch': 4}\n",
      "Epoch: 5, ndcg: 0.8448854498896339\n",
      "\n",
      "Testing learning_rate = 0.01 and n_hidden = 150\n",
      "Epoch: 0, ndcg: 0.8425334623045588\n",
      "Epoch: 1, ndcg: 0.844828781424115\n",
      "Epoch: 2, ndcg: 0.84606600377353\n",
      "Best parameters: {'learning_rate': 0.01, 'n_hidden': 150, 'epoch': 2}\n",
      "Epoch: 3, ndcg: 0.846046086803544\n",
      "\n",
      "Testing learning_rate = 0.01 and n_hidden = 200\n",
      "Epoch: 0, ndcg: 0.8418544069037505\n",
      "Epoch: 1, ndcg: 0.8440810152055646\n",
      "Epoch: 2, ndcg: 0.8466882443689918\n",
      "Best parameters: {'learning_rate': 0.01, 'n_hidden': 200, 'epoch': 2}\n",
      "Epoch: 3, ndcg: 0.8475614637744561\n",
      "Best parameters: {'learning_rate': 0.01, 'n_hidden': 200, 'epoch': 3}\n",
      "Epoch: 4, ndcg: 0.8475433771499691\n",
      "\n",
      "Testing learning_rate = 0.01 and n_hidden = 250\n",
      "Epoch: 0, ndcg: 0.8428227882532324\n",
      "Epoch: 1, ndcg: 0.8446962874951401\n",
      "Epoch: 2, ndcg: 0.8457806419603344\n",
      "Epoch: 3, ndcg: 0.8464732554838408\n",
      "Epoch: 4, ndcg: 0.8468053124836539\n",
      "Epoch: 5, ndcg: 0.8491275811672692\n",
      "Best parameters: {'learning_rate': 0.01, 'n_hidden': 250, 'epoch': 5}\n",
      "Epoch: 6, ndcg: 0.8459976441142536\n",
      "\n",
      "Testing learning_rate = 0.01 and n_hidden = 300\n",
      "Epoch: 0, ndcg: 0.8427015957301159\n",
      "Epoch: 1, ndcg: 0.8434464700496768\n",
      "Epoch: 2, ndcg: 0.8477571015850407\n",
      "Epoch: 3, ndcg: 0.8479345697631367\n",
      "Epoch: 4, ndcg: 0.8483642762648242\n",
      "Epoch: 5, ndcg: 0.8487416246406719\n",
      "Epoch: 6, ndcg: 0.8470730295688685\n",
      "\n",
      "Testing learning_rate = 0.01 and n_hidden = 350\n",
      "Epoch: 0, ndcg: 0.8422391980051135\n",
      "Epoch: 1, ndcg: 0.8453178609008641\n",
      "Epoch: 2, ndcg: 0.8446922612294477\n",
      "\n",
      "Testing learning_rate = 0.01 and n_hidden = 400\n",
      "Epoch: 0, ndcg: 0.8431787970465948\n",
      "Epoch: 1, ndcg: 0.8456708117958031\n",
      "Epoch: 2, ndcg: 0.8482906465116893\n",
      "Epoch: 3, ndcg: 0.8493485829256002\n",
      "Best parameters: {'learning_rate': 0.01, 'n_hidden': 400, 'epoch': 3}\n",
      "Epoch: 4, ndcg: 0.8485942990384071\n",
      "\n",
      "Testing learning_rate = 0.001 and n_hidden = 100\n",
      "Epoch: 0, ndcg: 0.8356078976313561\n",
      "Epoch: 1, ndcg: 0.8383811211389535\n",
      "Epoch: 2, ndcg: 0.8392124229624602\n",
      "Epoch: 3, ndcg: 0.8402630671708884\n",
      "Epoch: 4, ndcg: 0.8408300257055152\n",
      "Epoch: 5, ndcg: 0.8419540043742177\n",
      "Epoch: 6, ndcg: 0.8429986583279062\n",
      "Epoch: 7, ndcg: 0.8440260847518016\n",
      "Epoch: 8, ndcg: 0.843562070703486\n",
      "\n",
      "Testing learning_rate = 0.001 and n_hidden = 150\n",
      "Epoch: 0, ndcg: 0.8374984113632872\n",
      "Epoch: 1, ndcg: 0.8382257639969086\n",
      "Epoch: 2, ndcg: 0.839229638039198\n",
      "Epoch: 3, ndcg: 0.8420772658091806\n",
      "Epoch: 4, ndcg: 0.8424984851904663\n",
      "Epoch: 5, ndcg: 0.8430119722928525\n",
      "Epoch: 6, ndcg: 0.8439141909159684\n",
      "Epoch: 7, ndcg: 0.8443850532948757\n",
      "Epoch: 8, ndcg: 0.8448215570841503\n",
      "Epoch: 9, ndcg: 0.8453230612948679\n",
      "Epoch: 10, ndcg: 0.845773367183953\n",
      "Epoch: 11, ndcg: 0.8462722710960794\n",
      "Epoch: 12, ndcg: 0.8464307830772153\n",
      "Epoch: 13, ndcg: 0.8463503302649155\n",
      "\n",
      "Testing learning_rate = 0.001 and n_hidden = 200\n",
      "Epoch: 0, ndcg: 0.8348771594438806\n",
      "Epoch: 1, ndcg: 0.8377841855873545\n",
      "Epoch: 2, ndcg: 0.8397863033369686\n",
      "Epoch: 3, ndcg: 0.8413872203358687\n",
      "Epoch: 4, ndcg: 0.8424302204722074\n",
      "Epoch: 5, ndcg: 0.8422297762697335\n",
      "\n",
      "Testing learning_rate = 0.001 and n_hidden = 250\n",
      "Epoch: 0, ndcg: 0.8373946794682698\n",
      "Epoch: 1, ndcg: 0.8390334113824963\n",
      "Epoch: 2, ndcg: 0.8403725095932352\n",
      "Epoch: 3, ndcg: 0.8406576995749067\n",
      "Epoch: 4, ndcg: 0.8416460139933966\n",
      "Epoch: 5, ndcg: 0.8429839720844162\n",
      "Epoch: 6, ndcg: 0.8437391530998916\n",
      "Epoch: 7, ndcg: 0.8447695967057967\n",
      "Epoch: 8, ndcg: 0.8449726040021356\n",
      "Epoch: 9, ndcg: 0.8459646709898792\n",
      "Epoch: 10, ndcg: 0.8450692578224104\n",
      "\n",
      "Testing learning_rate = 0.001 and n_hidden = 300\n",
      "Epoch: 0, ndcg: 0.8372594048843726\n",
      "Epoch: 1, ndcg: 0.8392261159447946\n",
      "Epoch: 2, ndcg: 0.8398881787918365\n",
      "Epoch: 3, ndcg: 0.840406878689018\n",
      "Epoch: 4, ndcg: 0.8419820904531871\n",
      "Epoch: 5, ndcg: 0.8430402079473519\n",
      "Epoch: 6, ndcg: 0.8433462498082579\n",
      "Epoch: 7, ndcg: 0.8438571022397817\n",
      "Epoch: 8, ndcg: 0.8444364678809212\n",
      "Epoch: 9, ndcg: 0.8455568700672308\n",
      "Epoch: 10, ndcg: 0.8460616796688201\n",
      "Epoch: 11, ndcg: 0.8463229853102033\n",
      "Epoch: 12, ndcg: 0.8469258116704073\n",
      "Epoch: 13, ndcg: 0.8469154287251712\n",
      "\n",
      "Testing learning_rate = 0.001 and n_hidden = 350\n",
      "Epoch: 0, ndcg: 0.8386903556113646\n",
      "Epoch: 1, ndcg: 0.8391178009847665\n",
      "Epoch: 2, ndcg: 0.8417549040661494\n",
      "Epoch: 3, ndcg: 0.8427521455996384\n",
      "Epoch: 4, ndcg: 0.8437059714821412\n",
      "Epoch: 5, ndcg: 0.843916865450581\n",
      "Epoch: 6, ndcg: 0.845339816707784\n",
      "Epoch: 7, ndcg: 0.8452844209810665\n",
      "\n",
      "Testing learning_rate = 0.001 and n_hidden = 400\n",
      "Epoch: 0, ndcg: 0.8379728846598494\n",
      "Epoch: 1, ndcg: 0.8397970679758239\n",
      "Epoch: 2, ndcg: 0.8404370564551522\n",
      "Epoch: 3, ndcg: 0.8422008175273201\n",
      "Epoch: 4, ndcg: 0.8434955782618392\n",
      "Epoch: 5, ndcg: 0.8450065546326682\n",
      "Epoch: 6, ndcg: 0.8448799632082247\n",
      "\n",
      "Testing learning_rate = 0.0001 and n_hidden = 100\n",
      "Epoch: 0, ndcg: 0.8174038581073828\n",
      "Epoch: 1, ndcg: 0.8259929960201278\n",
      "Epoch: 2, ndcg: 0.8304371904372199\n",
      "Epoch: 3, ndcg: 0.8323614880897601\n",
      "Epoch: 4, ndcg: 0.8332761940483268\n",
      "Epoch: 5, ndcg: 0.8341482798901086\n",
      "Epoch: 6, ndcg: 0.8350093003679561\n",
      "Epoch: 7, ndcg: 0.8355039576443465\n",
      "Epoch: 8, ndcg: 0.8355402390813442\n",
      "Epoch: 9, ndcg: 0.8362960642218745\n",
      "Epoch: 10, ndcg: 0.8365756199478624\n",
      "Epoch: 11, ndcg: 0.8366799071302993\n",
      "Epoch: 12, ndcg: 0.8370794008682109\n",
      "Epoch: 13, ndcg: 0.8376663056609863\n",
      "Epoch: 14, ndcg: 0.837674448007038\n",
      "Epoch: 15, ndcg: 0.8377844483523513\n",
      "Epoch: 16, ndcg: 0.8379774898232369\n",
      "Epoch: 17, ndcg: 0.8383423463287409\n",
      "Epoch: 18, ndcg: 0.8385278326203635\n",
      "Epoch: 19, ndcg: 0.8385315968424838\n",
      "Epoch: 20, ndcg: 0.8381742972657789\n",
      "\n",
      "Testing learning_rate = 0.0001 and n_hidden = 150\n",
      "Epoch: 0, ndcg: 0.8191638453165635\n",
      "Epoch: 1, ndcg: 0.8266784384547057\n",
      "Epoch: 2, ndcg: 0.8303530474244297\n",
      "Epoch: 3, ndcg: 0.8324451555385205\n",
      "Epoch: 4, ndcg: 0.833878549058648\n",
      "Epoch: 5, ndcg: 0.8352766034813625\n",
      "Epoch: 6, ndcg: 0.8361638990743238\n",
      "Epoch: 7, ndcg: 0.8362474360706726\n",
      "Epoch: 8, ndcg: 0.8371414965816641\n",
      "Epoch: 9, ndcg: 0.8379112666853474\n",
      "Epoch: 10, ndcg: 0.8375429018560289\n",
      "\n",
      "Testing learning_rate = 0.0001 and n_hidden = 200\n",
      "Epoch: 0, ndcg: 0.8159555310744928\n",
      "Epoch: 1, ndcg: 0.8246971518026998\n",
      "Epoch: 2, ndcg: 0.8291050447271479\n",
      "Epoch: 3, ndcg: 0.831082698210143\n",
      "Epoch: 4, ndcg: 0.8333912827175618\n",
      "Epoch: 5, ndcg: 0.834857076747901\n",
      "Epoch: 6, ndcg: 0.8353360412146447\n",
      "Epoch: 7, ndcg: 0.8358220802489268\n",
      "Epoch: 8, ndcg: 0.836654865455294\n",
      "Epoch: 9, ndcg: 0.8370743724199649\n",
      "Epoch: 10, ndcg: 0.8375690965274164\n",
      "Epoch: 11, ndcg: 0.8379137635547478\n",
      "Epoch: 12, ndcg: 0.8380865494176523\n",
      "Epoch: 13, ndcg: 0.83801599935345\n",
      "\n",
      "Testing learning_rate = 0.0001 and n_hidden = 250\n"
     ]
    },
    {
     "name": "stdout",
     "output_type": "stream",
     "text": [
      "Epoch: 0, ndcg: 0.8205743900139238\n",
      "Epoch: 1, ndcg: 0.8271902461330793\n",
      "Epoch: 2, ndcg: 0.8301617386544422\n",
      "Epoch: 3, ndcg: 0.831822733085421\n",
      "Epoch: 4, ndcg: 0.8333822797594007\n",
      "Epoch: 5, ndcg: 0.834236600006083\n",
      "Epoch: 6, ndcg: 0.8352964772935182\n",
      "Epoch: 7, ndcg: 0.8356082680220684\n",
      "Epoch: 8, ndcg: 0.8364635867540817\n",
      "Epoch: 9, ndcg: 0.8364840599619752\n",
      "Epoch: 10, ndcg: 0.837112344089744\n",
      "Epoch: 11, ndcg: 0.8371537312378952\n",
      "Epoch: 12, ndcg: 0.8375527746884719\n",
      "Epoch: 13, ndcg: 0.8376851275287909\n",
      "Epoch: 14, ndcg: 0.8382387793656783\n",
      "Epoch: 15, ndcg: 0.8380353597193585\n",
      "\n",
      "Testing learning_rate = 0.0001 and n_hidden = 300\n",
      "Epoch: 0, ndcg: 0.8184031963742812\n",
      "Epoch: 1, ndcg: 0.8264486098707365\n",
      "Epoch: 2, ndcg: 0.830154149981244\n",
      "Epoch: 3, ndcg: 0.8326210216023459\n",
      "Epoch: 4, ndcg: 0.8342064302957148\n",
      "Epoch: 5, ndcg: 0.8349639094933322\n",
      "Epoch: 6, ndcg: 0.8356144076774097\n",
      "Epoch: 7, ndcg: 0.8363986800771542\n",
      "Epoch: 8, ndcg: 0.837115193312138\n",
      "Epoch: 9, ndcg: 0.8373502105014502\n",
      "Epoch: 10, ndcg: 0.8374815202186427\n",
      "Epoch: 11, ndcg: 0.8376198367303229\n",
      "Epoch: 12, ndcg: 0.8373191273586411\n",
      "\n",
      "Testing learning_rate = 0.0001 and n_hidden = 350\n",
      "Epoch: 0, ndcg: 0.8177295672511609\n",
      "Epoch: 1, ndcg: 0.8264739969578913\n",
      "Epoch: 2, ndcg: 0.8309986667402187\n",
      "Epoch: 3, ndcg: 0.832838459414423\n",
      "Epoch: 4, ndcg: 0.8341621453088445\n",
      "Epoch: 5, ndcg: 0.8347919450590848\n",
      "Epoch: 6, ndcg: 0.8353423431804403\n",
      "Epoch: 7, ndcg: 0.8354751974141865\n",
      "Epoch: 8, ndcg: 0.8367097313442748\n",
      "Epoch: 9, ndcg: 0.8368463810788247\n",
      "Epoch: 10, ndcg: 0.8370023088167273\n",
      "Epoch: 11, ndcg: 0.8371980987786329\n",
      "Epoch: 12, ndcg: 0.8369017689844638\n",
      "\n",
      "Testing learning_rate = 0.0001 and n_hidden = 400\n",
      "Epoch: 0, ndcg: 0.8188111980742411\n",
      "Epoch: 1, ndcg: 0.8258887808629939\n",
      "Epoch: 2, ndcg: 0.8301632562010836\n",
      "Epoch: 3, ndcg: 0.8330955844505202\n",
      "Epoch: 4, ndcg: 0.8350164181920066\n",
      "Epoch: 5, ndcg: 0.8361929348492919\n",
      "Epoch: 6, ndcg: 0.8366029212118583\n",
      "Epoch: 7, ndcg: 0.8372948850033883\n",
      "Epoch: 8, ndcg: 0.837419567139608\n",
      "Epoch: 9, ndcg: 0.8375996468323412\n",
      "Epoch: 10, ndcg: 0.8379657441727422\n",
      "Epoch: 11, ndcg: 0.8382163169321821\n",
      "Epoch: 12, ndcg: 0.8384172361713716\n",
      "Epoch: 13, ndcg: 0.8387203495166318\n",
      "Epoch: 14, ndcg: 0.8390838447118769\n",
      "Epoch: 15, ndcg: 0.839208917116769\n",
      "Epoch: 16, ndcg: 0.8394126325899887\n",
      "Epoch: 17, ndcg: 0.8396447222917726\n",
      "Epoch: 18, ndcg: 0.8397187368371382\n",
      "Epoch: 19, ndcg: 0.8400898427780197\n",
      "Epoch: 20, ndcg: 0.8398031222732883\n"
     ]
    }
   ],
   "source": [
    "#find best hyper parameters\n",
    "best_params = pointwise_LTR.hyperparam_search()"
   ]
  },
  {
   "cell_type": "code",
   "execution_count": 4,
   "metadata": {},
   "outputs": [
    {
     "name": "stdout",
     "output_type": "stream",
     "text": [
      "Epoch: 0, ndcg: 0.8413769051502359\n",
      "Epoch: 1, ndcg: 0.843932625429135\n",
      "Epoch: 2, ndcg: 0.8461665144084336\n"
     ]
    }
   ],
   "source": [
    "#train best model\n",
    "best_params = {'learning_rate': 0.01, 'n_hidden': 400, 'epoch': 3}\n",
    "ndcgs, losses, model = pointwise_LTR.train_best(best_params)"
   ]
  },
  {
   "cell_type": "code",
   "execution_count": 5,
   "metadata": {},
   "outputs": [
    {
     "data": {
      "image/png": "[encoded data removed]",
      "text/plain": [
       "<Figure size 432x288 with 1 Axes>"
      ]
     },
     "metadata": {
      "needs_background": "light"
     },
     "output_type": "display_data"
    },
    {
     "data": {
      "text/plain": [
       "<Figure size 432x288 with 0 Axes>"
      ]
     },
     "metadata": {},
     "output_type": "display_data"
    }
   ],
   "source": [
    "#plot ndcg and loss    \n",
    "pointwise_LTR.plot_ndcg_loss(losses, ndcgs)"
   ]
  },
  {
   "cell_type": "code",
   "execution_count": 6,
   "metadata": {},
   "outputs": [
    {
     "name": "stdout",
     "output_type": "stream",
     "text": [
      "Epoch: 0, ndcg: 0.8439174571661633\n",
      "Epoch: 1, ndcg: 0.8434385574035566\n",
      "Epoch: 2, ndcg: 0.8466569215071428\n",
      "Epoch: 3, ndcg: 0.8458118815262756\n",
      "Epoch: 4, ndcg: 0.8467629178188676\n",
      "Epoch: 5, ndcg: 0.8469633522608476\n",
      "Epoch: 6, ndcg: 0.8457435560044649\n",
      "Epoch: 7, ndcg: 0.847554253615289\n",
      "Epoch: 8, ndcg: 0.8494955122160813\n",
      "Epoch: 9, ndcg: 0.8479806564866208\n",
      "Epoch: 10, ndcg: 0.8469437975117358\n",
      "Epoch: 11, ndcg: 0.850003913007099\n",
      "Epoch: 12, ndcg: 0.8487460415388917\n",
      "Epoch: 13, ndcg: 0.8498174059494097\n",
      "Epoch: 14, ndcg: 0.846797009348853\n",
      "Epoch: 15, ndcg: 0.8449142125131962\n",
      "Epoch: 16, ndcg: 0.8488780077474091\n",
      "Epoch: 17, ndcg: 0.847667592927505\n",
      "Epoch: 18, ndcg: 0.8475788812507072\n",
      "Epoch: 19, ndcg: 0.8472453843666076\n",
      "Epoch: 20, ndcg: 0.849448678722456\n",
      "Epoch: 21, ndcg: 0.8475651781425999\n",
      "Epoch: 22, ndcg: 0.8477001186163841\n",
      "Epoch: 23, ndcg: 0.8480235118882498\n",
      "Epoch: 24, ndcg: 0.8463176494159494\n",
      "Epoch: 25, ndcg: 0.8463156725959534\n",
      "Epoch: 26, ndcg: 0.8449662229096453\n",
      "Epoch: 27, ndcg: 0.8468432505476411\n",
      "Epoch: 28, ndcg: 0.8454530519922413\n",
      "Epoch: 29, ndcg: 0.8445244303427345\n"
     ]
    },
    {
     "data": {
      "image/png": "[encoded data removed]",
      "text/plain": [
       "<Figure size 432x288 with 1 Axes>"
      ]
     },
     "metadata": {
      "needs_background": "light"
     },
     "output_type": "display_data"
    },
    {
     "data": {
      "text/plain": [
       "<Figure size 432x288 with 0 Axes>"
      ]
     },
     "metadata": {},
     "output_type": "display_data"
    }
   ],
   "source": [
    "overtrain_params = {\"learning_rate\": best_params[\"learning_rate\"], \n",
    "                    \"n_hidden\": best_params[\"n_hidden\"], \n",
    "                    \"epoch\": best_params[\"epoch\"] * 30}\n",
    "o_ndcgs, o_losses, o_model = pointwise_LTR.train_best(overtrain_params)\n",
    "pointwise_LTR.plot_ndcg_loss(o_losses, o_ndcgs)"
   ]
  },
  {
   "cell_type": "code",
   "execution_count": 4,
   "metadata": {},
   "outputs": [
    {
     "name": "stdout",
     "output_type": "stream",
     "text": [
      "{'val_mean': 1.3801224, 'val_std': 0.6063486, 'test_mean': 1.4061974, 'test_std': 0.6024173, 'actual_mean': 1.2385736009904293, 'actual_std': 0.9831062617320298}\n"
     ]
    }
   ],
   "source": [
    "#get distributions of scores\n",
    "distributions = pointwise_LTR.get_distributions(model)\n",
    "print(distributions)"
   ]
  },
  {
   "cell_type": "code",
   "execution_count": 8,
   "metadata": {},
   "outputs": [
    {
     "name": "stdout",
     "output_type": "stream",
     "text": [
      "0.6558157804387997\n",
      "{'dcg': (19.686574949777643, 14.83993699111864), 'dcg@03': (9.280739677276399, 7.731128738164116), 'dcg@05': (11.328242720042327, 8.72322561694716), 'dcg@10': (14.343000737450897, 10.242435173809142), 'dcg@20': (17.113600582927234, 12.069417234114374), 'ndcg': (0.8520828150090096, 0.13876639201887414), 'ndcg@03': (0.6906094954022328, 0.27955233508562116), 'ndcg@05': (0.7135938390377147, 0.24359176343940067), 'ndcg@10': (0.7609564612760666, 0.20872394473663425), 'ndcg@20': (0.8070912031791624, 0.1734938057807385), 'precision@01': (0.6447110675808031, 0.47860078031656433), 'precision@03': (0.44515181194906955, 0.31548812655262165), 'precision@05': (0.3549461312438786, 0.2513577664902053), 'precision@10': (0.2465230166503428, 0.18323504039487098), 'precision@20': (0.15836190009794318, 0.1267888080206165), 'recall@01': (0.2805523746194128, 0.3347536661162891), 'recall@03': (0.48586169908648086, 0.37560794623929455), 'recall@05': (0.6007242142772738, 0.36810096907453943), 'recall@10': (0.7551379253865298, 0.32041680000515116), 'recall@20': (0.894292358242077, 0.21903674531828818), 'relevant rank': (11.575671763891512, 13.32148430782432), 'relevant rank per query': (45.04138099902057, 89.37320370942172)}\n"
     ]
    }
   ],
   "source": [
    "#performance on test set\n",
    "loss, scores = pointwise_LTR.eval_model(model, data.test)"
   ]
  }
 ],
 "metadata": {
  "kernelspec": {
   "display_name": "ir1-hw2",
   "language": "python",
   "name": "ir1-hw2"
  },
  "language_info": {
   "codemirror_mode": {
    "name": "ipython",
    "version": 3
   },
   "file_extension": ".py",
   "mimetype": "text/x-python",
   "name": "python",
   "nbconvert_exporter": "python",
   "pygments_lexer": "ipython3",
   "version": "3.7.4"
  }
 },
 "nbformat": 4,
 "nbformat_minor": 2
}
