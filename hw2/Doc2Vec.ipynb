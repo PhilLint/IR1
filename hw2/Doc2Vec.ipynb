{
  "nbformat": 4,
  "nbformat_minor": 0,
  "metadata": {
    "colab": {
      "name": "Doc2Vec.ipynb",
      "provenance": [],
      "collapsed_sections": [],
      "toc_visible": true
    },
    "kernelspec": {
      "name": "python3",
      "display_name": "Python 3"
    },
    "accelerator": "GPU"
  },
  "cells": [
    {
      "cell_type": "code",
      "metadata": {
        "id": "Xjtc_MU-SMhX",
        "colab_type": "code",
        "colab": {
          "base_uri": "https://localhost:8080/",
          "height": 139
        },
        "outputId": "65f9f94b-a938-4ff5-f01b-e7b78d1a4424"
      },
      "source": [
        "from google.colab import drive\n",
        "drive.mount('/content/drive')\n",
        "%cd drive/My Drive/hw2"
      ],
      "execution_count": 1,
      "outputs": [
        {
          "output_type": "stream",
          "text": [
            "Go to this URL in a browser: https://accounts.google.com/o/oauth2/auth?client_id=947318989803-6bn6qk8qdgf4n4g3pfee6491hc0brc4i.apps.googleusercontent.com&redirect_uri=urn%3aietf%3awg%3aoauth%3a2.0%3aoob&response_type=code&scope=email%20https%3a%2f%2fwww.googleapis.com%2fauth%2fdocs.test%20https%3a%2f%2fwww.googleapis.com%2fauth%2fdrive%20https%3a%2f%2fwww.googleapis.com%2fauth%2fdrive.photos.readonly%20https%3a%2f%2fwww.googleapis.com%2fauth%2fpeopleapi.readonly\n",
            "\n",
            "Enter your authorization code:\n",
            "··········\n",
            "Mounted at /content/drive\n",
            "/content/drive/My Drive/hw2\n"
          ],
          "name": "stdout"
        }
      ]
    },
    {
      "cell_type": "code",
      "metadata": {
        "id": "6IJzcq1gS3ET",
        "colab_type": "code",
        "colab": {
          "base_uri": "https://localhost:8080/",
          "height": 68
        },
        "outputId": "779abd1c-db6e-4494-eccf-37ab3e1aa0af"
      },
      "source": [
        "!ls"
      ],
      "execution_count": 2,
      "outputs": [
        {
          "output_type": "stream",
          "text": [
            "datasets\t   environment.yml\t__pycache__\t  tf_idf.py\n",
            "Dov2Vec2.ipynb\t   hw2_description.pdf\tread_ap.py\t  trec.py\n",
            "download_ap.ipynb  processed_docs.pkl\trequirements.txt  WINDOWS.md\n"
          ],
          "name": "stdout"
        }
      ]
    },
    {
      "cell_type": "code",
      "metadata": {
        "id": "wTgVVwxdtE_E",
        "colab_type": "code",
        "outputId": "be6fa631-46b0-4dd1-8f9a-36e25154d1e3",
        "colab": {
          "base_uri": "https://localhost:8080/",
          "height": 507
        }
      },
      "source": [
        "import os\n",
        "import gensim\n",
        "import csv\n",
        "from sklearn.model_selection import train_test_split\n",
        "from tqdm import tqdm\n",
        "# import trec\n",
        "import pytrec_eval\n",
        "\n",
        "import read_ap\n",
        "from gensim.models.doc2vec import Doc2Vec, TaggedDocument\n",
        "import pickle\n",
        "\n",
        "def main():\n",
        "\n",
        "    qrels, queries = read_ap.read_qrels()\n",
        "    docs_by_id = read_ap.get_processed_docs()\n",
        "\n",
        "    traincorpus = [TaggedDocument(j, [i]) for i, j in docs_by_id.items()]\n",
        "\n",
        "    model = gensim.models.doc2vec.Doc2Vec(vector_size=50, min_count=2, epochs=1)\n",
        "    model.build_vocab(traincorpus)\n",
        "    model.train(traincorpus, total_examples=model.corpus_count, epochs=model.epochs)\n",
        "    vector = model.infer_vector(['only', 'you', 'can', 'prevent', 'forest', 'fires'])\n",
        "    print(vector)\n",
        "    \n",
        "    \n",
        "    # ranks = []\n",
        "    # second_ranks = []\n",
        "    # for doc_id in range(len(traincorpus)):\n",
        "    #     inferred_vector = model.infer_vector(traincorpus[doc_id].words)\n",
        "    #     sims = model.docvecs.most_similar([inferred_vector], topn=len(model.docvecs))\n",
        "    #     rank = [docid for docid, sim in sims].index(doc_id)\n",
        "    #     ranks.append(rank)\n",
        "\n",
        "    # second_ranks.append(sims[1])\n",
        "    \n",
        "    \n",
        "    overall_ser = {}\n",
        "\n",
        "    print(\"Running Doc2Vec Benchmark\")\n",
        "    # collect results\n",
        "    for qid in tqdm(qrels): \n",
        "        query_text = queries[qid]\n",
        "        # print(query_text)\n",
        "        inferred_vector = model.infer_vector(query_text)\n",
        "        sims = model.docvecs.most_similar([inferred_vector], topn = len(model.docvecs))\n",
        "        overall_ser[qid] = dict(sims)\n",
        "    print(list(overall_ser.keys())[0])\n",
        "    \n",
        "    return qrels, overall_ser\n",
        "\n",
        "if __name__ == \"__main__\":\n",
        "    qrels, overall_ser = main()\n",
        "    # evaluator = trec.TrecAPI.evaluate(qrels, overall_ser)\n",
        "    evaluator = pytrec_eval.RelevanceEvaluator(qrels, {'map', 'ndcg'})\n",
        "    metrics = trec.evaluate(overall_ser)\n",
        "    print(evaluator)\n",
        "    print(metrics)\n",
        "\n",
        "    \n",
        "#     Use pickle dump and pickle load to save the models\n",
        "# pickle.dump( model, open( \"modelnumber.p\", \"wb\" ) )\n",
        "# favorite_color = pickle.load( open( \"modelnumber.p\", \"rb\" ) )\n",
        "\n",
        "\n"
      ],
      "execution_count": 7,
      "outputs": [
        {
          "output_type": "stream",
          "text": [
            "Docs already processed. Loading from disk\n"
          ],
          "name": "stdout"
        },
        {
          "output_type": "stream",
          "text": [
            "\r  0%|          | 0/149 [00:00<?, ?it/s]"
          ],
          "name": "stderr"
        },
        {
          "output_type": "stream",
          "text": [
            "[ 0.02925239 -0.01346497  0.00014769  0.0151014   0.01627432 -0.00724757\n",
            "  0.03680607 -0.00421266  0.00865446  0.00813891 -0.01359113  0.00392202\n",
            " -0.01825569  0.00512153 -0.00254896  0.00461481  0.00297795  0.03096714\n",
            "  0.02303807 -0.00565885 -0.00104     0.00593258 -0.00123206  0.02492198\n",
            " -0.0059235  -0.02759317  0.01516818 -0.02080778  0.02166442 -0.01570935\n",
            "  0.02127239  0.00565895  0.00399433  0.01797415 -0.02457937  0.0212144\n",
            " -0.00735703  0.02606635  0.00726126  0.01641699 -0.00130046 -0.00028223\n",
            " -0.00189466 -0.01597513  0.01559547 -0.01415886 -0.00403365  0.00628054\n",
            "  0.00137283 -0.02672526]\n",
            "Running Doc2Vec Benchmark\n"
          ],
          "name": "stdout"
        },
        {
          "output_type": "stream",
          "text": [
            "/usr/local/lib/python3.6/dist-packages/gensim/matutils.py:737: FutureWarning: Conversion of the second argument of issubdtype from `int` to `np.signedinteger` is deprecated. In future, it will be treated as `np.int64 == np.dtype(int).type`.\n",
            "  if np.issubdtype(vec.dtype, np.int):\n",
            "100%|██████████| 149/149 [01:16<00:00,  1.98it/s]\n"
          ],
          "name": "stderr"
        },
        {
          "output_type": "stream",
          "text": [
            "101\n"
          ],
          "name": "stdout"
        },
        {
          "output_type": "error",
          "ename": "TypeError",
          "evalue": "ignored",
          "traceback": [
            "\u001b[0;31m---------------------------------------------------------------------------\u001b[0m",
            "\u001b[0;31mTypeError\u001b[0m                                 Traceback (most recent call last)",
            "\u001b[0;32m<ipython-input-7-19f06841f33a>\u001b[0m in \u001b[0;36m<module>\u001b[0;34m()\u001b[0m\n\u001b[1;32m     53\u001b[0m \u001b[0;32mif\u001b[0m \u001b[0m__name__\u001b[0m \u001b[0;34m==\u001b[0m \u001b[0;34m\"__main__\"\u001b[0m\u001b[0;34m:\u001b[0m\u001b[0;34m\u001b[0m\u001b[0;34m\u001b[0m\u001b[0m\n\u001b[1;32m     54\u001b[0m     \u001b[0mqrels\u001b[0m\u001b[0;34m,\u001b[0m \u001b[0moverall_ser\u001b[0m \u001b[0;34m=\u001b[0m \u001b[0mmain\u001b[0m\u001b[0;34m(\u001b[0m\u001b[0;34m)\u001b[0m\u001b[0;34m\u001b[0m\u001b[0;34m\u001b[0m\u001b[0m\n\u001b[0;32m---> 55\u001b[0;31m     \u001b[0mevaluator\u001b[0m \u001b[0;34m=\u001b[0m \u001b[0mtrec\u001b[0m\u001b[0;34m.\u001b[0m\u001b[0mTrecAPI\u001b[0m\u001b[0;34m.\u001b[0m\u001b[0mevaluate\u001b[0m\u001b[0;34m(\u001b[0m\u001b[0mqrels\u001b[0m\u001b[0;34m,\u001b[0m \u001b[0moverall_ser\u001b[0m\u001b[0;34m)\u001b[0m\u001b[0;34m\u001b[0m\u001b[0;34m\u001b[0m\u001b[0m\n\u001b[0m\u001b[1;32m     56\u001b[0m     \u001b[0mprint\u001b[0m\u001b[0;34m(\u001b[0m\u001b[0mevaluator\u001b[0m\u001b[0;34m)\u001b[0m\u001b[0;34m\u001b[0m\u001b[0;34m\u001b[0m\u001b[0m\n\u001b[1;32m     57\u001b[0m \u001b[0;34m\u001b[0m\u001b[0m\n",
            "\u001b[0;31mTypeError\u001b[0m: evaluate() missing 1 required positional argument: 'prediction_file_name'"
          ]
        }
      ]
    },
    {
      "cell_type": "code",
      "metadata": {
        "id": "X8cGK7WMSKzj",
        "colab_type": "code",
        "colab": {}
      },
      "source": [
        ""
      ],
      "execution_count": 0,
      "outputs": []
    }
  ]
}