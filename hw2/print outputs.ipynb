{
 "cells": [
  {
   "cell_type": "code",
   "execution_count": 4,
   "metadata": {},
   "outputs": [],
   "source": [
    "import os\n",
    "import json\n",
    "import pickle as pkl\n",
    "from collections import defaultdict, Counter\n",
    "import collections\n",
    "\n",
    "import numpy as np\n",
    "import pytrec_eval\n",
    "from tqdm import tqdm\n",
    "\n",
    "import argparse\n",
    "import scipy.stats\n",
    "import sys\n",
    "import pytrec_eval"
   ]
  },
  {
   "cell_type": "code",
   "execution_count": 21,
   "metadata": {},
   "outputs": [],
   "source": [
    "def LSI_MAP(scores, topic_n):\n",
    "    MAP = 0\n",
    "    for qid in scores[topic_n]:\n",
    "        MAP += scores[topic_n][str(qid)]['map']\n",
    "    return MAP\n",
    "\n",
    "def LSI_nDCG(scores, topic_n):\n",
    "    ndcg = 0\n",
    "    for qid in scores[topic_n]:\n",
    "        ndcg += scores[topic_n][str(qid)]['ndcg']\n",
    "    return ndcg\n",
    "    \n",
    "def JSON_results(file_name):\n",
    "    with open(file_name) as f:\n",
    "        data = json.load(f)\n",
    "    return(data)\n",
    "    \n",
    "def t_test(first, second):\n",
    "    measures = [\"map\", \"ndcg\"]\n",
    "    query_ids = first.keys()\n",
    "    first_scores = [first[qid][meas] for qid in query_ids for meas in measures]\n",
    "    second_scores = [second[qid][meas] for qid in query_ids for meas in measures]\n",
    "    return scipy.stats.ttest_rel(first_scores, second_scores)\n",
    "\n",
    "def dict_results():\n",
    "    return collections.defaultdict(dict_results)\n",
    "    "
   ]
  },
  {
   "cell_type": "code",
   "execution_count": 22,
   "metadata": {},
   "outputs": [],
   "source": [
    "# load LSI results\n",
    "result_path = \"./LSI_results\"\n",
    "if os.path.exists(result_path):\n",
    "    with open(result_path, \"rb\") as reader:\n",
    "        LSI_results = pkl.load(reader)\n",
    "        \n",
    "topics = [10, 50, 100, 500, 1000, 2000, 5000, 10000]\n",
    "lsi_bow_val = {i: LSI_results[\"bow\"][i][\"val\"] for i in topics}\n",
    "lsi_bow_test = {i: LSI_results[\"bow\"][i][\"test\"] for i in topics}\n",
    "lsi_tfidf_val = {i: LSI_results[\"tfidf\"][i][\"val\"] for i in topics}\n",
    "lsi_tfidf_test = {i: LSI_results[\"tfidf\"][i][\"test\"] for i in topics}"
   ]
  },
  {
   "cell_type": "code",
   "execution_count": 23,
   "metadata": {},
   "outputs": [
    {
     "name": "stdout",
     "output_type": "stream",
     "text": [
      "(1.5426351702819414, 10.672523867529197)\n",
      "(3.085270340563883, 115.47097494393682)\n",
      "(2.8371663760950443, 12.494818836140174)\n",
      "(5.674332752190089, 138.3587529651074)\n"
     ]
    }
   ],
   "source": [
    "# AQ 4.1 get MAP / nDCG scores for LSI standard\n",
    "lsi_bow_val_score = (LSI_MAP(lsi_bow_val, 500), LSI_nDCG(lsi_bow_val, 500))\n",
    "lsi_bow_all_score = (LSI_MAP(lsi_bow_val, 500) + LSI_MAP(lsi_bow_val, 500), \n",
    "                     LSI_nDCG(lsi_bow_test, 500) + LSI_nDCG(lsi_bow_test, 500))\n",
    "\n",
    "lsi_tfidf_val_score = (LSI_MAP(lsi_tfidf_val, 500), LSI_nDCG(lsi_tfidf_val, 500))\n",
    "lsi_tfidf_all_score = (LSI_MAP(lsi_tfidf_val, 500) + LSI_MAP(lsi_tfidf_val, 500), \n",
    "                       LSI_nDCG(lsi_tfidf_test, 500) + LSI_nDCG(lsi_tfidf_test, 500))\n",
    "\n",
    "print(lsi_bow_val_score)\n",
    "print(lsi_bow_all_score)\n",
    "print(lsi_tfidf_val_score)\n",
    "print(lsi_tfidf_all_score)\n"
   ]
  },
  {
   "cell_type": "code",
   "execution_count": 24,
   "metadata": {},
   "outputs": [
    {
     "data": {
      "text/plain": [
       "Ttest_relResult(statistic=9.90028625507743, pvalue=3.721053378269528e-20)"
      ]
     },
     "execution_count": 24,
     "metadata": {},
     "output_type": "execute_result"
    }
   ],
   "source": [
    "# AQ 4.2 get t-test scores from base models \n",
    "# t-test input expects output from evaluator.evaluate(overall_ser)\n",
    "# which should be what saved in the json file, use JSON_results(file_name)\n",
    "\n",
    "tf_idf = JSON_results(\"tf-idf.json\")\n",
    "#word2vec = JSON_results(\"word2vec.json\")\n",
    "#doc2vec = JSON_results(\"doc2vec.json\")\n",
    "lsi_bow = {**lsi_bow_val[500], **lsi_bow_test[500]}\n",
    "lsi_tfidf = {**lsi_tfidf_val[500], **lsi_tfidf_test[500]}\n",
    "lda = JSON_results(\"lda.json\")\n",
    "\n",
    "\n",
    "t_test(tf_idf, lsi_bow)\n",
    "\n",
    "\n",
    "\n",
    "\n",
    "    "
   ]
  }
 ],
 "metadata": {
  "kernelspec": {
   "display_name": "ir1--hw1",
   "language": "python",
   "name": "ir1--hw1"
  },
  "language_info": {
   "codemirror_mode": {
    "name": "ipython",
    "version": 3
   },
   "file_extension": ".py",
   "mimetype": "text/x-python",
   "name": "python",
   "nbconvert_exporter": "python",
   "pygments_lexer": "ipython3",
   "version": "3.6.10"
  }
 },
 "nbformat": 4,
 "nbformat_minor": 2
}
