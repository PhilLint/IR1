{
  "nbformat": 4,
  "nbformat_minor": 0,
  "metadata": {
    "colab": {
      "name": "Doc2Vec.ipynb",
      "provenance": [],
      "collapsed_sections": [],
      "toc_visible": true
    },
    "kernelspec": {
      "name": "python3",
      "display_name": "Python 3"
    },
    "accelerator": "GPU"
  },
  "cells": [
    {
      "cell_type": "code",
      "metadata": {
        "id": "Xjtc_MU-SMhX",
        "colab_type": "code",
        "outputId": "b32fce9c-7f00-44a0-e1db-30e5b7b2d37d",
        "colab": {
          "base_uri": "https://localhost:8080/",
          "height": 71
        }
      },
      "source": [
        "from google.colab import drive\n",
        "drive.mount('/content/drive')\n",
        "%cd drive/My Drive/hw2"
      ],
      "execution_count": 1,
      "outputs": [
        {
          "output_type": "stream",
          "text": [
            "Drive already mounted at /content/drive; to attempt to forcibly remount, call drive.mount(\"/content/drive\", force_remount=True).\n",
            "/content/drive/My Drive/hw2\n"
          ],
          "name": "stdout"
        }
      ]
    },
    {
      "cell_type": "code",
      "metadata": {
        "id": "6IJzcq1gS3ET",
        "colab_type": "code",
        "outputId": "2ba39f05-cfc2-4795-8caa-13a99771f1f8",
        "colab": {
          "base_uri": "https://localhost:8080/",
          "height": 85
        }
      },
      "source": [
        "!ls"
      ],
      "execution_count": 2,
      "outputs": [
        {
          "output_type": "stream",
          "text": [
            "d2v_default.p\t      download_ap.ipynb    __pycache__\t     trec.py\n",
            "datasets\t      environment.yml\t   read_ap.py\t     WINDOWS.md\n",
            "Doc2vec_default.json  hw2_description.pdf  requirements.txt\n",
            "Dov2Vec2.ipynb\t      processed_docs.pkl   tf_idf.py\n"
          ],
          "name": "stdout"
        }
      ]
    },
    {
      "cell_type": "code",
      "metadata": {
        "id": "v1zyu6qxUqv5",
        "colab_type": "code",
        "colab": {
          "base_uri": "https://localhost:8080/",
          "height": 54
        },
        "outputId": "d5817243-6e12-46a5-bcff-bac1769adf35"
      },
      "source": [
        "! pip install pytrec-eval"
      ],
      "execution_count": 6,
      "outputs": [
        {
          "output_type": "stream",
          "text": [
            "Requirement already satisfied: pytrec-eval in /usr/local/lib/python3.6/dist-packages (0.4)\n"
          ],
          "name": "stdout"
        }
      ]
    },
    {
      "cell_type": "code",
      "metadata": {
        "id": "wTgVVwxdtE_E",
        "colab_type": "code",
        "outputId": "f6e5e822-799f-46cc-9196-63765020abea",
        "colab": {
          "base_uri": "https://localhost:8080/",
          "height": 683
        }
      },
      "source": [
        "import os\n",
        "import gensim\n",
        "import csv\n",
        "from sklearn.model_selection import train_test_split\n",
        "from tqdm import tqdm\n",
        "import numpy as np\n",
        "# import trec\n",
        "import pytrec_eval\n",
        "import json\n",
        "\n",
        "\n",
        "import read_ap\n",
        "from gensim.models.doc2vec import Doc2Vec, TaggedDocument\n",
        "import pickle\n",
        "def rank(query, model):\n",
        "      inferred_vector = model.infer_vector(query, 10000)\n",
        "      sims = model.docvecs.most_similar([inferred_vector], topn = len(model.docvecs))\n",
        "      return sims\n",
        "def print_similar(query, model, traincorpus):\n",
        "  query = read_ap.process_text(query)\n",
        "  sims = rank(query, model)\n",
        "  # print('Document ({}): «{}»\\n'.format(doc_id, ' '.join(traincorpus[doc_id].words)))\n",
        "  print(u'SIMILAR/DISSIMILAR DOCS PER MODEL %s:\\n' % model)\n",
        "  for label, index in [('1', 0), ('2', 1), ('3', 2), ('4', 3), ('5', 4), ('6', 5), ('7', 6), ('8', 7), ('9', 8), ('10', 9)]:\n",
        "      print(u'%s %s: «%s»\\n' % (label, sims[index], ' '.join(docs_by_id[sims[index][0]])))\n",
        "\n",
        "def main():\n",
        "\n",
        "    qrels, queries = read_ap.read_qrels()\n",
        "    docs_by_id = read_ap.get_processed_docs()\n",
        "\n",
        "    traincorpus = [TaggedDocument(j, [i]) for i, j in docs_by_id.items()]\n",
        "\n",
        "    # model = gensim.models.doc2vec.Doc2Vec(min_count=50, epochs=5)\n",
        "    # model.build_vocab(traincorpus)\n",
        "    # model.train(traincorpus, total_examples=model.corpus_count, epochs=model.epochs)\n",
        "    model = pickle.load(open( \"d2v_default.p\", \"rb\" ))\n",
        "\n",
        "\n",
        "    overall_ser = {}\n",
        "\n",
        "    print(\"Running Doc2Vec Benchmark\")\n",
        "    # collect results\n",
        "    for qid in tqdm(qrels): \n",
        "        query_text = queries[qid]\n",
        "        query_text = read_ap.process_text(query_text)\n",
        "        # print(query_text)\n",
        "        sims = rank(query_text, model)\n",
        "        overall_ser[qid] = dict(sims)\n",
        "    print(list(overall_ser.keys())[0])\n",
        "    \n",
        "    return qrels, overall_ser, model, docs_by_id\n",
        "\n",
        "if __name__ == \"__main__\":\n",
        "    qrels, overall_ser, model, docs_by_id = main()\n",
        "    evaluator = pytrec_eval.RelevanceEvaluator(qrels, {'map', 'ndcg'})\n",
        "    metrics = evaluator.evaluate(overall_ser)\n",
        "    print(evaluator)\n",
        "    MAP = {k: v['map'] for k, v in metrics.items()}\n",
        "    all_mean_map = np.array([MAP[k] for k in MAP]).mean()\n",
        "    NDCG = {k: v['ndcg'] for k, v in metrics.items()}\n",
        "    all_mean_ndcg = np.array([NDCG[k] for k in NDCG]).mean()\n",
        "\n",
        "\n",
        "    print(all_mean_map)\n",
        "    print(all_mean_ndcg)\n",
        "\n",
        "    print(metrics)\n",
        "\n",
        "    # dump this to JSON\n",
        "    # *Not* Optional - This is submitted in the assignment!\n",
        "    with open(\"Doc2vec_default.json\", \"w\") as writer:\n",
        "        json.dump(metrics, writer, indent=1)\n",
        "    pickle.dump(model, open( \"d2v_default.p\", \"wb\"))\n",
        "    model = pickle.load(open( \"d2v_default.p\", \"rb\" ))\n",
        "    query = 'Donald John Trump (born June 14, 1946) is the 45th and current president of the United States. Before entering politics, he was a businessman and television personality. Trump was born and raised in Queens, a borough of New York City, and received a bachelors degree in economics from the Wharton School. He took charge of his familys real-estate business in 1971, renamed it The Trump Organization, and expanded its operations from Queens and Brooklyn into Manhattan. The company built or renovated skyscrapers, hotels, casinos, and golf courses. Trump later started various side ventures, mostly by licensing his name.'\n",
        "    print_similar(query, model, docs_by_id)\n",
        "    MAP_val = {k: v['map'] for k, v in metrics.items()}\n",
        "    MAP_val_int = {int(k): v for k,v in MAP_val.items()}\n",
        "    MAP_val_int_test = {k: v for k,v in MAP_val_int.items() if k>= 76 and k<=100}\n",
        "    val_mean = np.array([MAP_val_int_test[k] for k in MAP_val_int_test]).mean()\n",
        "\n",
        "    NDCG_val = {k: v['ndcg'] for k, v in metrics.items()}\n",
        "    NDCG_val_int = {int(k): v for k,v in NDCG_val.items()}\n",
        "    NDCG_val_int_test = {k: v for k,v in NDCG_val_int.items() if k >= 76 and k<=100}\n",
        "    val_mean_NDCG = np.array([NDCG_val_int_test[k] for k in NDCG_val_int_test]).mean()\n",
        "\n",
        "\n",
        "    print(val_mean)\n",
        "    print(val_mean_NDCG)\n",
        "\n",
        "\n",
        "\n"
      ],
      "execution_count": 3,
      "outputs": [
        {
          "output_type": "stream",
          "text": [
            "[nltk_data] Downloading package stopwords to /root/nltk_data...\n",
            "[nltk_data]   Package stopwords is already up-to-date!\n",
            "[nltk_data] Downloading package punkt to /root/nltk_data...\n",
            "[nltk_data]   Package punkt is already up-to-date!\n",
            "Docs already processed. Loading from disk\n"
          ],
          "name": "stdout"
        },
        {
          "output_type": "stream",
          "text": [
            "\r  0%|          | 0/149 [00:00<?, ?it/s]"
          ],
          "name": "stderr"
        },
        {
          "output_type": "stream",
          "text": [
            "Running Doc2Vec Benchmark\n"
          ],
          "name": "stdout"
        },
        {
          "output_type": "stream",
          "text": [
            "/usr/local/lib/python3.6/dist-packages/gensim/matutils.py:737: FutureWarning: Conversion of the second argument of issubdtype from `int` to `np.signedinteger` is deprecated. In future, it will be treated as `np.int64 == np.dtype(int).type`.\n",
            "  if np.issubdtype(vec.dtype, np.int):\n",
            "100%|██████████| 149/149 [01:13<00:00,  1.99it/s]\n"
          ],
          "name": "stderr"
        },
        {
          "output_type": "stream",
          "text": [
            "101\n",
            "<pytrec_eval.RelevanceEvaluator object at 0x7f2a12faf030>\n",
            "0.0034890584068787674\n",
            "0.2736952551734986\n",
            "{'101': {'map': 0.0011062078900552306, 'ndcg': 0.23586679340941702}, '102': {'map': 0.00012899511791429207, 'ndcg': 0.17540198977758076}, '103': {'map': 0.00038016982073334514, 'ndcg': 0.25423335310353923}, '104': {'map': 0.00023131608352207727, 'ndcg': 0.2375319423709823}, '105': {'map': 0.00012664859285102425, 'ndcg': 0.20123565033980972}, '106': {'map': 0.0002709237312863335, 'ndcg': 0.23846820626249357}, '107': {'map': 0.0013540809927411654, 'ndcg': 0.2486551732001191}, '108': {'map': 0.0007945837695974874, 'ndcg': 0.30364837688363094}, '109': {'map': 0.00011396118192769241, 'ndcg': 0.13364131903772303}, '110': {'map': 0.029145202340427317, 'ndcg': 0.550222743619465}, '111': {'map': 0.0005386011470954008, 'ndcg': 0.30300835667528636}, '112': {'map': 6.384878335865263e-05, 'ndcg': 0.14457563238087656}, '113': {'map': 0.0011514105314274102, 'ndcg': 0.24694642128877772}, '114': {'map': 0.0006058301006662802, 'ndcg': 0.31331985978106436}, '115': {'map': 0.0004447459215588569, 'ndcg': 0.2785432085158119}, '116': {'map': 0.00012776929813811848, 'ndcg': 0.1700813688320328}, '117': {'map': 0.00033111618364880873, 'ndcg': 0.21594322733787547}, '118': {'map': 0.00088557721106063, 'ndcg': 0.34892074761222047}, '119': {'map': 0.0010514079156558164, 'ndcg': 0.3657090164840235}, '120': {'map': 0.0001950600057522845, 'ndcg': 0.22191479305791162}, '121': {'map': 0.00039310265706841773, 'ndcg': 0.24820314704901195}, '122': {'map': 0.0003715762169459542, 'ndcg': 0.19731521702438462}, '123': {'map': 0.0014791790618007689, 'ndcg': 0.30652200235535493}, '124': {'map': 0.0002118702978555672, 'ndcg': 0.24130106894996137}, '125': {'map': 0.1094001360898473, 'ndcg': 0.5797713743275112}, '126': {'map': 0.0483602799530932, 'ndcg': 0.5527378679087842}, '127': {'map': 0.0008109434288410401, 'ndcg': 0.33665451404783747}, '128': {'map': 0.0021957313216476463, 'ndcg': 0.2978561057364563}, '129': {'map': 0.0015534570997306708, 'ndcg': 0.3581453335840285}, '130': {'map': 0.0012219399347156003, 'ndcg': 0.36676018455604675}, '131': {'map': 4.002991115136446e-05, 'ndcg': 0.11250173510318592}, '132': {'map': 0.0005356314243554666, 'ndcg': 0.3124739823369848}, '133': {'map': 5.0297975387941846e-05, 'ndcg': 0.14416699912860506}, '134': {'map': 3.974608557677996e-05, 'ndcg': 0.12181847316135441}, '135': {'map': 0.0004051645798986896, 'ndcg': 0.27202492722444827}, '136': {'map': 0.0002662670856195592, 'ndcg': 0.15750914866292692}, '137': {'map': 0.0006599508425830216, 'ndcg': 0.26755188375879174}, '138': {'map': 0.00017944000134464947, 'ndcg': 0.21415293633760285}, '139': {'map': 0.0002307270154882217, 'ndcg': 0.234005205356434}, '140': {'map': 0.00010672803547542624, 'ndcg': 0.1843777533864064}, '141': {'map': 0.000198199873905375, 'ndcg': 0.18929793788046748}, '142': {'map': 0.0018018644789894631, 'ndcg': 0.40444390029639665}, '143': {'map': 0.001210337874512114, 'ndcg': 0.3741585694041827}, '144': {'map': 0.0002032355565348714, 'ndcg': 0.2234022288742352}, '145': {'map': 0.0006292376234670727, 'ndcg': 0.3013174894688698}, '146': {'map': 0.03779506067215914, 'ndcg': 0.561336731734261}, '147': {'map': 0.0017690143094477146, 'ndcg': 0.34568391832787176}, '148': {'map': 0.0015990351490576709, 'ndcg': 0.37827653889061086}, '149': {'map': 0.0009796611502742656, 'ndcg': 0.22217860842166293}, '150': {'map': 0.0009632782864640887, 'ndcg': 0.3619049412849608}, '151': {'map': 0.00032324582642576604, 'ndcg': 0.26909552185468244}, '152': {'map': 0.0012442935451654766, 'ndcg': 0.3850181988464246}, '153': {'map': 0.00019483711018858328, 'ndcg': 0.21630529740295495}, '154': {'map': 0.00197126810464425, 'ndcg': 0.42304439284628687}, '155': {'map': 0.00013398313271885406, 'ndcg': 0.19327782790340042}, '156': {'map': 0.001234157960494814, 'ndcg': 0.3867980577158583}, '157': {'map': 9.27943175388824e-05, 'ndcg': 0.17295093369958733}, '158': {'map': 0.00011046032562953756, 'ndcg': 0.11646551011961638}, '159': {'map': 2.639536726758403e-05, 'ndcg': 0.10180824951587106}, '160': {'map': 8.748013790168807e-05, 'ndcg': 0.18216071582162505}, '161': {'map': 0.0004621910424046539, 'ndcg': 0.3056806457045769}, '162': {'map': 0.0013131595425722618, 'ndcg': 0.3168599990860813}, '163': {'map': 0.0003336393998639079, 'ndcg': 0.2696764945575588}, '164': {'map': 0.00021319490240404306, 'ndcg': 0.2144887237113708}, '165': {'map': 0.00010091009836464764, 'ndcg': 0.18342196028883084}, '166': {'map': 8.175709215457548e-05, 'ndcg': 0.16788197959919893}, '167': {'map': 0.000332464147418025, 'ndcg': 0.2564957740244015}, '168': {'map': 0.0002466008219495087, 'ndcg': 0.24961639560276522}, '169': {'map': 0.00015122190011961442, 'ndcg': 0.20390868293055506}, '170': {'map': 0.0017816395645110742, 'ndcg': 0.14131031815810063}, '171': {'map': 0.00011713673654448878, 'ndcg': 0.12984102165354577}, '172': {'map': 5.0737811506823835e-05, 'ndcg': 0.1241537263554608}, '173': {'map': 0.0009052289899211755, 'ndcg': 0.3519997859809091}, '174': {'map': 0.0003371259093803453, 'ndcg': 0.27225419543722496}, '175': {'map': 0.0010292107120490202, 'ndcg': 0.2947018309430245}, '176': {'map': 0.00332551028029086, 'ndcg': 0.38084588269064285}, '177': {'map': 0.0003126754850917699, 'ndcg': 0.2694021591730229}, '178': {'map': 0.00019639445289326978, 'ndcg': 0.2061913288522867}, '179': {'map': 0.002916469252735002, 'ndcg': 0.2923208251414084}, '180': {'map': 0.0015659490429406019, 'ndcg': 0.34773209489893026}, '181': {'map': 4.884557178794548e-05, 'ndcg': 0.13302250342511956}, '182': {'map': 0.0003696166449084848, 'ndcg': 0.2509556631654739}, '183': {'map': 0.1401741346022379, 'ndcg': 0.6004533209629719}, '184': {'map': 0.00020065328695707547, 'ndcg': 0.22560619808964857}, '185': {'map': 0.0009785318337843074, 'ndcg': 0.31907226882326695}, '186': {'map': 0.00019519382323272553, 'ndcg': 0.22356117134518994}, '187': {'map': 0.0005724021722853162, 'ndcg': 0.3185016402631238}, '188': {'map': 0.00038944708889265004, 'ndcg': 0.264384335317432}, '189': {'map': 0.0031817507116991117, 'ndcg': 0.473492815639355}, '190': {'map': 0.00013732675704912356, 'ndcg': 0.2012305525781677}, '191': {'map': 0.0005064751295696047, 'ndcg': 0.30642843305761186}, '192': {'map': 0.000558784666246658, 'ndcg': 0.3252270645201924}, '193': {'map': 0.0010042196976467854, 'ndcg': 0.3269822564326388}, '194': {'map': 0.00031307613460837395, 'ndcg': 0.2657281360186453}, '195': {'map': 0.0011363365952527925, 'ndcg': 0.3451416268212144}, '196': {'map': 0.00018080368058528455, 'ndcg': 0.19973255256616798}, '197': {'map': 0.00048685673615855634, 'ndcg': 0.2693739884364857}, '198': {'map': 0.0003223408460796976, 'ndcg': 0.2660933712943585}, '199': {'map': 0.00019063737640844829, 'ndcg': 0.17098720988988328}, '200': {'map': 0.00015937916570987707, 'ndcg': 0.2148634723141276}, '51': {'map': 0.0003908307218333362, 'ndcg': 0.2244875991977006}, '52': {'map': 0.001342942018226119, 'ndcg': 0.38343287956953986}, '53': {'map': 0.001253316007468807, 'ndcg': 0.3780305873933939}, '54': {'map': 0.0005974519453240987, 'ndcg': 0.2958147786273787}, '55': {'map': 0.0009879795199983369, 'ndcg': 0.3631721475157192}, '56': {'map': 0.003634080772716811, 'ndcg': 0.42678004912900525}, '57': {'map': 0.0006362809669518427, 'ndcg': 0.25027875226794594}, '58': {'map': 0.0005742933748910129, 'ndcg': 0.2972004052638062}, '59': {'map': 0.055969770524385384, 'ndcg': 0.6132187941500816}, '60': {'map': 4.100029310873969e-05, 'ndcg': 0.12606351414581585}, '61': {'map': 0.0033614163214539033, 'ndcg': 0.3314305442517817}, '62': {'map': 0.0011632551629816993, 'ndcg': 0.3672820147123455}, '63': {'map': 2.7202825406523873e-05, 'ndcg': 0.10251717115783934}, '64': {'map': 0.0023169151873492252, 'ndcg': 0.4045537849196925}, '66': {'map': 9.274687366118018e-06, 'ndcg': 0.07089762263447094}, '67': {'map': 0.0016032141417069874, 'ndcg': 0.4114252274750797}, '68': {'map': 0.0001886698381159523, 'ndcg': 0.22894800012801253}, '69': {'map': 7.700491447133184e-05, 'ndcg': 0.15783228486634301}, '70': {'map': 0.00018385448739587434, 'ndcg': 0.2182811130980297}, '71': {'map': 0.0011200915031768963, 'ndcg': 0.3795187559808182}, '72': {'map': 0.00040548798704130937, 'ndcg': 0.24479344059610847}, '73': {'map': 0.0004674909068470929, 'ndcg': 0.2961446112242366}, '74': {'map': 0.0006739769072278544, 'ndcg': 0.33554557545828406}, '75': {'map': 6.2992220810309e-05, 'ndcg': 0.14694534961438932}, '76': {'map': 0.0002669303182676733, 'ndcg': 0.25705330760644907}, '77': {'map': 0.0008772332406788618, 'ndcg': 0.32085879588907906}, '78': {'map': 0.0008870745182553408, 'ndcg': 0.3262074407858312}, '79': {'map': 0.0007076700065828423, 'ndcg': 0.3174358595640589}, '80': {'map': 0.0007076113706861862, 'ndcg': 0.3301752616231402}, '81': {'map': 0.00019179160592304665, 'ndcg': 0.23433019072232325}, '82': {'map': 0.0005335096274440808, 'ndcg': 0.30815008642708824}, '83': {'map': 0.0012514811247316205, 'ndcg': 0.373028686257145}, '84': {'map': 0.00024523751431573603, 'ndcg': 0.19357637303736722}, '85': {'map': 0.0036640505389648453, 'ndcg': 0.46711680958315743}, '86': {'map': 0.0001672959140699156, 'ndcg': 0.17618606179503613}, '87': {'map': 0.001352337095366276, 'ndcg': 0.2851650434020802}, '88': {'map': 0.0002596401292273272, 'ndcg': 0.25377656759228645}, '89': {'map': 0.00023397889928025167, 'ndcg': 0.24392477458357031}, '90': {'map': 0.0001365723472422344, 'ndcg': 0.19597346174406666}, '91': {'map': 2.3317164498101258e-05, 'ndcg': 0.10114810092353368}, '92': {'map': 0.0002016857306322306, 'ndcg': 0.2281880611102663}, '93': {'map': 0.0006682086259622794, 'ndcg': 0.3252738397517255}, '94': {'map': 0.0003765927176734157, 'ndcg': 0.26565725731307344}, '95': {'map': 0.0013358414123301814, 'ndcg': 0.25453707429441297}, '96': {'map': 0.00016530252156690575, 'ndcg': 0.15828184478337037}, '97': {'map': 9.176623769922543e-05, 'ndcg': 0.17263772585452689}, '98': {'map': 8.153516566022336e-05, 'ndcg': 0.16540492208621943}, '99': {'map': 0.0007805581809692277, 'ndcg': 0.33949740376447973}, '100': {'map': 0.0005661612338036145, 'ndcg': 0.2501470509516227}}\n",
            "SIMILAR/DISSIMILAR DOCS PER MODEL Doc2Vec(dm/m,d100,n5,w5,mc50,s0.001,t3):\n",
            "\n",
            "1 ('AP880408-0198', 0.5455797910690308): «pulitz prize board look complaint award grant report broke new ground requir winner board secretari said thursday washington magazin nation journal assert philadelphia inquir report tom weiner 's report secret pentagon budget built earlier stori journal david c. morrison broke new ground weiner pulitz prize nation report last week descript prize requir winner break new ground board secretari robert christoph said report must repres `` distinguish exampl report nation affair '' christoph said meanwhil harper 's magazin publish john r. macarthur thursday also critic award note one weiner 's stori accompani annot document similar featur morrison januari 1987 issu harper 's `` certainli david morrison lot work lot brilliant work stori '' said macarthur call associ press make complaint `` n't seem quit right inquir get pulitz prize unless origin noth prize give day '' said said plan write pulitz board although endors journal 's complaint christoph said board chairman david laventhol seen complaint laventhol presid time mirror co. own nation journal 5,000-circul weekli respond immedi telephon request comment christoph said board member would discuss complaint read probabl next week inquir 's deputi manag editor jim naughton maintain `` seri tim 's work gener broken new ground whatev mean '' `` know reaction '' naughton said `` know caus congress re-examin situat ask inform pentagon guess would call break ground '' weiner said interview 100 peopl around countri `` knee-deep saw david 's work ''»\n",
            "\n",
            "2 ('AP880814-0038', 0.5296207666397095): «wild duck nicknam `` donald '' waddl around three month dart stuck neck elud would-b rescuer final nab littl corn twine lot patienc le hubbel 's trap effort paid saturday donald spent weekend cage hubbel 's kitchen head veterinarian 's offic monday dart remov back may someon shot dart duck congreg along mississippi river central minnesota citi one 5-inch dart stuck donald 's upper neck neighborhood folk tri captur duck mallard net scare quick grab donald idea destin veterinarian fri pan hubbel 's approach use chicken-wir trap 'd head river 5:30 a.m. day set trap corn run piec twine trapdoor car 'd sit 6:45 a.m. wait donald waddl trap never happen saturday `` like deer hunt '' hubbel said `` sooner later go step '' depart natur resourc offici gave hubbel permiss keep wild anim donald nurs back health»\n",
            "\n",
            "3 ('AP881111-0138', 0.5217984318733215): «mari gerald peter want six children part name latest addit famili result eric michael david stephen joshua kevin carl quentin jess alexand william peter `` littl uniqu six kid one want give name '' said gerald peter given three children multipl middl name parent pick eric kevin carl william sibl fill gap babi born oct. 26 gerald peter began tradit multipl middl name belatedli wife 's approv dislik first name want children choic howev like middl name much boy `` william '' name `` children n't multipl middl name ask '' said `` think 's cool say dad come n't give us name '' gerald william jr. 12 contribut name stephen lucinda louis 11 submit david joshua terrenc pleas call terri william 7 recommend michael nathanael fred frederick william 6 suggest alexand `` matthew lawrenc william 3 gave us jess name could say '' peter said `` michel heather sandra louis peter 1 babi gave quentin figur way got older would n't argu us n't get name '' rest babi 's name came parent desir nice round number middl name 10 call short pop quiz even teacher flunk 200 lawyer juror peopl cram king counti superior courtroom start washington 's centenni celebr thursday judg gerard shellan ask whether anyon knew presid unit state state join union nov. 11 1889 one answer `` grover cleveland '' shellan said `` presid unit state approv admiss state washington union '' wrong benjamin harrison took cleveland earlier 1889 beat 1888 elect shellan acknowledg mistak later `` look bring court '' shellan said `` obvious look first ''»\n",
            "\n",
            "4 ('AP880427-0238', 0.5181172490119934): «white hous commun director tom griscom order secret servic offic expel new york time report steven robert offic wednesday appar heat exchang concern news coverag attorney gener edwin mees iii neither particip would person discuss incid telephon call griscom immedi return white hous spokesman marlin fitzwat said knew occas report escort privat offic west wing white hous west wing presid 's oval offic locat mostli off-limit report may visit escort white hous personnel time washington bureau chief craig whitney confirm incid `` mr. griscom call say 'd taken offens someth steve said regard truth '' whitney said whitney said know whether griscom ask robert leav call secret servic offic `` griscom told robert escort offic '' whitney said howev senior white hous offici spoke incid ask quot said griscom ask robert leav call secret servic offic escort whitney said two men discuss coverag mees subject sever investig `` physic violenc '' involv robert left offic escort whitney said whitney note robert griscom long work relationship time work capitol hill `` told griscom steve ... work '' ask prompt incid fitzwat said could comment went insid griscom 's offic say `` robert angri someth went hallway shout obscen outsid offic went see tommi happen n't know '' griscom longtim aid white hous chief staff howard baker serv spokesman baker republican leader senat»\n",
            "\n",
            "5 ('AP880721-0058', 0.5156334638595581): «keynot speaker dozen dignitari lock democrat nation convent overcrowd omni arena forc miss climax confabul deleg parti leader convent staffer report mill frustrat outsid blockad walkway hall wednesday deleg insid nomin massachusett gov michael dukaki presid second time mani night hall close fire marshal lock angrili denounc democrat nation committe choos rel small arena convent 4,000 deleg `` want go vote want hear nomin n't understand '' said blanch preston mcsmith deleg travel auk bay alaska cast vote jess jackson `` wo n't let '' `` 's sit seat want '' thunder michael stein deleg chicago `` prevent repres peopl elect injustic ... 's outrag '' other includ parti leader caught outsid hall accept fortun mildli `` hassl '' said texa treasur ann richard keynot speaker monday night `` came late hall full '' went back hotel room watch roll call televis rep. robert garcia new york bare made hall said left behind colleagu includ sen. j. bennett johnston louisiana reps. paul kanjorski pennsylvania jim slatteri kansa brian donnelli massachusett seen stand outsid sen. bob graham florida reps. peter rodino new jersey le aspin gerald kleczka wisconsin former wisconsin gov patrick lucey bert lanc jackson advis former director offic manag budget presid carter `` pete rodino le aspin outsid 'm '' lanc said rodino manag gain entri later aspin despit deleg 's appeal convent floor admit critic omni 's select warn would small accommod convent crowd fire chief william h. hamer said would allow 12,500 peopl insid 11,000 seat dnc station worker door count enter leav atlanta mayor andrew young earlier blame crowd report hall joel justic deleg atlanta said convent plan fault `` thought problem work beforehand '' said `` evid n't work exactli like plan ''»\n",
            "\n",
            "6 ('AP881006-0142', 0.5124674439430237): «feder trade commiss staffer hot water polit orient letter sent told hous subcommitte thursday thought expect carter l. clew fire ftc reinstat pend formal investig activ admit send letter news media critic statement made democrat presidenti candid michael dukaki `` simpli tri job understood '' clew said told hous energi commerc subcommitte letter sent seen superior agenc 's press offic dispatch anna h. davi director ftc offic public affair deni say problem postscript clew ad one letter without knowledg letter sent author letter sent broadcast newspap effort counter statement dukaki ftc 's antitrust effort joke letter clew challeng statement offer servic commiss member interview discuss agenc 's activ dukaki remark drew challeng two commission democrat andrew strenio independ mari azcuenaga question whether letter violat hatch act ban polit activ feder worker clew left commiss given choic resign fire testifi later complain resign come duress return payrol pend investig current administr leav mrs. davi testifi one letter sent 800 talk show host across nation approv agenc offici clew subsequ ad postscript got commiss intern sign mrs. davi name clew told subcommitte oversignt investig intern sign letter mrs. davi approv town time print postscript said assum mrs. davi awar present letter place envelop mail second letter question dukaki statement sent sever columnist carri clew signatur contend mrs. davi seen letter advanc deni testifi clew sent avoid normal clearanc procedur third letter offer respond dukaki sent washington news bureau chief mrs. davi signatur clew testifi written letter also sent mrs. davi said sign statement howev mrs. davi said `` signatur similar mine sign know sign ''»\n",
            "\n",
            "7 ('AP880919-0069', 0.511258602142334): «beulah mae donald 7 million judgment ku klux klan beat death son rememb attorney handl case `` brave courag mother '' mrs. donald die natur caus saturday mobil hospit 67 `` 'll forev place histori woman beat klan '' said morri dee chief attorney black famili mrs. donald 's son michael strangl fatal beaten baldwin counti bodi found hang tree mobil neighborhood two ku klux klansmen convict case feb. 12 1987 juri award famili 7 million judgment klan unit klan america 's nation headquart build tuscaloosa asset later sign estat michael donald sold undisclos sum apprais 150,000 200,000 `` think brave courag mother whose love son ensur die vain '' said dee director southern poverti law center montgomeri last decemb mrs. donald name one ms. magazin 's 1987 women year shortli receiv honor mrs. donald said never sought reveng `` want know realli kill child '' said `` n't even think money n't gotten cent would n't matter want know '' 19-year-old son kidnap mobil street march 1981 taken rural area beaten choke throat cut bodi hang tree klansmen henri franci hay sentenc die alabama 's electr chair jame l. `` tiger '' knowl serv life sentenc feder prison plead guilti violat donald 's civil right u.s. suprem court refus hear hay appeal capit murder convict februari februari mistrial declar trial two alleg accomplic benni jack hay benjamin franklin cox former collaps court mrs. donald survivor includ four daughter mari a. houston jackson miss cecelia perri cynthia mitchel betti j. wyatt mobil two son stanley donald biloxi miss leo donald detroit mich. funer arrang incomplet»\n",
            "\n",
            "8 ('AP890520-0072', 0.5081358551979065): «donald hiss brother alger accus part washington espionag ring 1940 die lung cancer 82 hiss die thursday home hiss retir 13 year ago washington law firm covington amp burl join 1945 hold post feder govern 1948 donald alger hiss identifi spi whittak chamber time magazin senior editor admit former communist testimoni hous un-american activ committe donald hiss deni alleg prosecut alger hiss convict perjuri devot much life unsuccess effort overturn judgment donald hiss nativ baltimor graduat john hopkin univers receiv law degre harvard law school 1932 serv year secretari suprem court justic oliv wendel holm hiss join new deal administr franklin d. roosevelt 1933 lawyer solicitor 's offic depart labor later serv depart state 's offic philippin affair world war ii donald hiss assist dean acheson assist secretari state charg econom affair later secretari state retir move town maryland 's eastern shore addit brother surviv wife former catherin g. jone son two daughter three grandchildren privat servic held saturday»\n",
            "\n",
            "9 ('AP880408-0079', 0.5074789524078369): «execut second magazin echo complaint year 's pulitz prize philadelphia inquir report reconsid win entri break new ground harper 's magazin publish john r. macarthur said thursday agre content washington weekli nation journal seri secret pentagon spend tim weiner lean heavili inform anoth report publish two magazin formal complaint journal discuss execut committe pulitz board kind judgment made next week board 's secretari robert christoph said christoph ad `` break new ground '' requir win nation report prize richard frank editor nation journal said letter board weiner 's seri built earlier stori journal david c. morrison `` plow new journalist ground '' macarthur said weiner 's stori accompani annot document similar featur morrison januari 1987 issu harper 's `` n't seem quit right inquir get pulitz prize unless origin noth prize give day '' macarthur said telephon call associ press said plan write pulitz board christoph said board chairman david laventhol seen complaint copi circul half dozen member execut committe laventhol presid time mirror co. own nation journal said magazin check protest laventhol said told journal go ahead felt strongli issu said acquiesc necessarili mean agre posit anoth board member eugen l. robert jr. inquir 's execut editor said role review would respond journal 's complaint answer question board member»\n",
            "\n",
            "10 ('AP881227-0038', 0.503739595413208): «bob burton n't take request take wrong number burton say receiv 50 wrong number call day peopl tri reach kwiz-fm height problem summer station 's top 40 request line one digit burton 's home phone number henc call woman want hear `` yesterday '' burton told wrong number n't believ insist play beatl song burton 32 sang number wrong call trail coupl week disc jockey pat matthew begun announc number slowli burton said nativ new yorker said n't fan station start receiv wrong call 's even made request»\n",
            "\n",
            "0.0006309353296732657\n",
            "0.26174928005783643\n"
          ],
          "name": "stdout"
        }
      ]
    },
    {
      "cell_type": "code",
      "metadata": {
        "id": "X8cGK7WMSKzj",
        "colab_type": "code",
        "colab": {}
      },
      "source": [
        "import os\n",
        "import gensim\n",
        "import csv\n",
        "from sklearn.model_selection import train_test_split\n",
        "from tqdm import tqdm\n",
        "import numpy as np\n",
        "# import trec\n",
        "import pytrec_eval\n",
        "import json\n",
        "\n",
        "\n",
        "import read_ap\n",
        "from gensim.models.doc2vec import Doc2Vec, TaggedDocument\n",
        "import pickle\n",
        "def rank(query, model):\n",
        "      inferred_vector = model.infer_vector(query, 10000)\n",
        "      sims = model.docvecs.most_similar([inferred_vector], topn = len(model.docvecs))\n",
        "      return sims\n",
        "def print_similar(query, model, traincorpus):\n",
        "  query = read_ap.process_text(query)\n",
        "  sims = rank(query, model)\n",
        "  # print('Document ({}): «{}»\\n'.format(doc_id, ' '.join(traincorpus[doc_id].words)))\n",
        "  print(u'SIMILAR/DISSIMILAR DOCS PER MODEL %s:\\n' % model)\n",
        "  for label, index in [('1', 0), ('2', 1), ('3', 2), ('4', 3), ('5', 4), ('6', 5), ('7', 6), ('8', 7), ('9', 8), ('10', 9)]:\n",
        "      print(u'%s %s: «%s»\\n' % (label, sims[index], ' '.join(traincorpus[int(sims[index][0])])))\n",
        "\n",
        "def main():\n",
        "\n",
        "    qrels, queries = read_ap.read_qrels()\n",
        "    docs_by_id = read_ap.get_processed_docs()\n",
        "\n",
        "    traincorpus = [TaggedDocument(j, [i]) for i, j in docs_by_id.items()]\n",
        "\n",
        "    for i in [200,300,400,500]:\n",
        "      model = gensim.models.doc2vec.Doc2Vec(min_count=50, epochs=5)\n",
        "      model.build_vocab(traincorpus)\n",
        "      model.train(traincorpus, total_examples=model.corpus_count, epochs=model.epochs)\n",
        "      # model = pickle.load(open( \"d2v_default.p\", \"rb\" ))\n",
        "\n",
        "\n",
        "    overall_ser = {}\n",
        "\n",
        "    print(\"Running Doc2Vec Benchmark\")\n",
        "    # collect results\n",
        "    for qid in tqdm(qrels): \n",
        "        query_text = queries[qid]\n",
        "        query_text = read_ap.process_text(query_text)\n",
        "        # print(query_text)\n",
        "        sims = rank(query_text, model)\n",
        "        overall_ser[qid] = dict(sims)\n",
        "    print(list(overall_ser.keys())[0])\n",
        "    \n",
        "    return qrels, overall_ser, model, traincorpus\n",
        "\n",
        "if __name__ == \"__main__\":\n",
        "    qrels, overall_ser, model, traincorpus = main()\n",
        "    evaluator = pytrec_eval.RelevanceEvaluator(qrels, {'map', 'ndcg'})\n",
        "    metrics = evaluator.evaluate(overall_ser)\n",
        "    print(evaluator)\n",
        "    MAP = {k: v['map'] for k, v in metrics.items()}\n",
        "    all_mean_map = np.array([MAP[k] for k in MAP]).mean()\n",
        "    NDCG = {k: v['ndcg'] for k, v in metrics.items()}\n",
        "    all_mean_ndcg = np.array([NDCG[k] for k in NDCG]).mean()\n",
        "\n",
        "\n",
        "    print(all_mean_map)\n",
        "    print(all_mean_ndcg)\n",
        "\n",
        "    print(metrics)\n",
        "\n",
        "    # dump this to JSON\n",
        "    # *Not* Optional - This is submitted in the assignment!\n",
        "    with open(\"Doc2vec_default.json\", \"w\") as writer:\n",
        "        json.dump(metrics, writer, indent=1)\n",
        "    pickle.dump(model, open( \"d2v_default.p\", \"wb\"))\n",
        "    model = pickle.load(open( \"d2v_default.p\", \"rb\" ))\n",
        "    query = 'Donald John Trump (born June 14, 1946) is the 45th and current president of the United States. Before entering politics, he was a businessman and television personality. Trump was born and raised in Queens, a borough of New York City, and received a bachelors degree in economics from the Wharton School. He took charge of his familys real-estate business in 1971, renamed it The Trump Organization, and expanded its operations from Queens and Brooklyn into Manhattan. The company built or renovated skyscrapers, hotels, casinos, and golf courses. Trump later started various side ventures, mostly by licensing his name.'\n",
        "    print_similar(query, model, traincorpus)\n",
        "    MAP_val = {k: v['map'] for k, v in metrics.items() if 67<k<100}\n",
        "    val_mean = np.array([MAP_val[k] for k in MAP_val]).mean()\n",
        "    NDCG_val = {k: v['ndcg'] for k, v in metrics.items() if 67<k<100}\n",
        "    val_mean_NDCG = np.array([NDCG_val[k] for k in NDCG_val]).mean()\n",
        "\n",
        "    print(val_mean)\n",
        "    print(val_mean_NDCG)\n",
        "\n",
        "\n",
        "\n"
      ],
      "execution_count": 0,
      "outputs": []
    }
  ]
}