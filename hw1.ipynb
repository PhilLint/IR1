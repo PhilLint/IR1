{
 "cells": [
  {
   "cell_type": "markdown",
   "metadata": {},
   "source": [
    "# Homework 1 (Total Points: 175)\n",
    "\n",
    "\n",
    "\n",
    "Learning Goals:\n",
    "- Learn how to load a dataset and process it.\n",
    "- Learn how to implement several IR methods (TFIDF, BM25, QL) and understand their weaknesses & strengths.\n",
    "- Learn how to evaluate IR methods\n",
    "\n",
    "\n",
    "**NOTE 1**: Only the code (`TODO: Implement this!` denotes these sections) is graded. The 'theory' questions in this assignment serve as a preparation for the exam and to facilitate a deeper understanding of the course content. These questions (denoted by `TODO: Answer this!`) have no points assigned to them, but **need** to be filled out before submission.  \n",
    "\n",
    "**NOTE 2**: You can use the `nltk`, `numpy` and `matplotlib` libraries here. Other libraries, e.g., `gensim` or `scikit-learn`, may not be used. \n",
    "\n",
    "**NOTE 3**: The notebook you submit has to have the student ids, seperated by underscores (E.g., `12341234_12341234_12341234.ipynb`). \n",
    "\n",
    "**NOTE 4**: Make sure to check that your notebook runs before submission. A quick way to do this is to restart the kernel and run all the cells.  \n",
    "\n",
    "---\n",
    "Additional Resources: \n",
    "-  Sections 2.3, 4.1, 4.2, 4.3, 5.3, 5.6, 5.7, 6.2, 7, 8 of [Search Engines: Information Retrieval in Practice](https://ciir.cs.umass.edu/downloads/SEIRiP.pdf)\n"
   ]
  },
  {
   "cell_type": "code",
   "execution_count": 29,
   "metadata": {},
   "outputs": [],
   "source": [
    "# imports \n",
    "# TODO: Ensure that no additional library is imported in the notebook. \n",
    "# TODO: Only the standard library and the following libraries are allowed:\n",
    "\n",
    "import os\n",
    "import zipfile\n",
    "from functools import partial\n",
    "\n",
    "import nltk\n",
    "import requests\n",
    "import numpy as np\n",
    "from tqdm import tqdm\n",
    "\n",
    "import matplotlib.pyplot as plt\n",
    "\n",
    "from ipywidgets import widgets\n",
    "from IPython.display import display, HTML\n",
    "from IPython.html import widgets\n",
    "from collections import namedtuple\n",
    "\n",
    "%matplotlib inline\n"
   ]
  },
  {
   "cell_type": "markdown",
   "metadata": {},
   "source": [
    "## Section 1: Text Processing (20 points)\n",
    "\n",
    "In this section, we will load the dataset and learn how to clean up the data to make it usable for an IR system. \n",
    "\n",
    "We are using the [CACM dataset](http://ir.dcs.gla.ac.uk/resources/test_collections/cacm/), which is a small, classic IR dataset, composed of a collection of titles and abstracts from the journal CACM. It comes with relevance judgements for queries, so we can evaluate our IR system. \n",
    "\n",
    "The following cell downloads the dataset and unzips it to a local directory"
   ]
  },
  {
   "cell_type": "code",
   "execution_count": 30,
   "metadata": {},
   "outputs": [],
   "source": [
    "def download_dataset(folder_path = \"./datasets/\"):\n",
    "    \n",
    "    os.makedirs(folder_path, exist_ok=True)\n",
    "    \n",
    "    file_location = os.path.join(folder_path, \"cacm.zip\")\n",
    "    \n",
    "    # download file if it doesn't exist\n",
    "    if not os.path.exists(file_location):\n",
    "        \n",
    "        url = \"https://surfdrive.surf.nl/files/index.php/s/M0FGJpX2p8wDwxR/download\"\n",
    "\n",
    "        with open(file_location, \"wb\") as handle:\n",
    "            print(f\"Downloading file from {url} to {file_location}\")\n",
    "            response = requests.get(url, stream=True)\n",
    "            for data in tqdm(response.iter_content()):\n",
    "                handle.write(data)\n",
    "            print(\"Finished downloading file\")\n",
    "    \n",
    "    if not os.path.exists(os.path.join(folder_path, \"train.txt\")):\n",
    "        \n",
    "        # unzip file\n",
    "        with zipfile.ZipFile(file_location, 'r') as zip_ref:\n",
    "            zip_ref.extractall(folder_path)\n",
    "        \n",
    "download_dataset()"
   ]
  },
  {
   "cell_type": "markdown",
   "metadata": {},
   "source": [
    "You can see a brief description of each file in the dataset by looking at the README file"
   ]
  },
  {
   "cell_type": "code",
   "execution_count": 31,
   "metadata": {},
   "outputs": [
    {
     "name": "stdout",
     "output_type": "stream",
     "text": [
      "Files in this directory with sizes:\r\n",
      "          0 Jun 19 21:01 README\r\n",
      "\r\n",
      "    2187734 Jun 19 20:55 cacm.all              text of documents\r\n",
      "        626 Jun 19 20:58 cite.info             key to citation info\r\n",
      "                                                (the X sections in cacm.all)\r\n",
      "       2668 Jun 19 20:55 common_words           stop words used by smart\r\n",
      "       2194 Jun 19 20:55 make_coll*             shell script to make collection\r\n",
      "       1557 Jun 19 20:55 make_coll_term*        ditto (both useless without\r\n",
      "                                                smart system)\r\n",
      "       9948 Jun 19 20:55 qrels.text             relation giving\r\n",
      "                                                    qid did 0 0\r\n",
      "                                                to indicate dument did is\r\n",
      "                                                relevant to query qid\r\n",
      "      13689 Jun 19 20:55 query.text             Original text of the query\r\n"
     ]
    }
   ],
   "source": [
    "##### Read the README file \n",
    "!cat ./datasets/README\n",
    "#####"
   ]
  },
  {
   "cell_type": "markdown",
   "metadata": {},
   "source": [
    "----\n",
    "We are interested in 4 files:\n",
    "- `cacm.all` : Contains the text for all documents. Note that some documents do not have abstracts available. \n",
    "- `query.text` : The text of all queries\n",
    "- `qrels.text` : The relevance judgements\n",
    "- `common_words` : A list of common words. This may be used as a collection of stopwords"
   ]
  },
  {
   "cell_type": "code",
   "execution_count": 32,
   "metadata": {},
   "outputs": [
    {
     "name": "stdout",
     "output_type": "stream",
     "text": [
      ".I 1\r\n",
      ".T\r\n",
      "Preliminary Report-International Algebraic Language\r\n",
      ".B\r\n",
      "CACM December, 1958\r\n",
      ".A\r\n",
      "Perlis, A. J.\r\n",
      "Samelson,K.\r\n",
      ".N\r\n",
      "CA581203 JB March 22, 1978  8:28 PM\r\n",
      ".X\r\n",
      "100\t5\t1\r\n",
      "123\t5\t1\r\n",
      "164\t5\t1\r\n",
      "1\t5\t1\r\n",
      "1\t5\t1\r\n",
      "1\t5\t1\r\n",
      "205\t5\t1\r\n",
      "210\t5\t1\r\n",
      "214\t5\t1\r\n",
      "1982\t5\t1\r\n",
      "398\t5\t1\r\n",
      "642\t5\t1\r\n",
      "669\t5\t1\r\n",
      "1\t6\t1\r\n",
      "1\t6\t1\r\n",
      "1\t6\t1\r\n",
      "1\t6\t1\r\n",
      "1\t6\t1\r\n",
      "1\t6\t1\r\n",
      "1\t6\t1\r\n",
      "1\t6\t1\r\n",
      "1\t6\t1\r\n",
      "1\t6\t1\r\n",
      "165\t6\t1\r\n",
      "196\t6\t1\r\n",
      "196\t6\t1\r\n",
      "1273\t6\t1\r\n",
      "1883\t6\t1\r\n",
      "324\t6\t1\r\n",
      "43\t6\t1\r\n",
      "53\t6\t1\r\n",
      "91\t6\t1\r\n",
      "410\t6\t1\r\n",
      "3184\t6\t1\r\n"
     ]
    }
   ],
   "source": [
    "##### The first 45 lines of the CACM dataset forms the first record\n",
    "# We are interested only in 3 fields. \n",
    "# 1. the '.I' field, which is the document id\n",
    "# 2. the '.T' field (the title) and\n",
    "# 3. the '.W' field (the abstract, which may be absent)\n",
    "!head -45 ./datasets/cacm.all\n",
    "#####"
   ]
  },
  {
   "cell_type": "markdown",
   "metadata": {},
   "source": [
    "---\n",
    "\n",
    "Now, write a function to read in the `cacm.all` file. Note that each document has a variable number of lines. The `.I` field denotes a new document"
   ]
  },
  {
   "cell_type": "code",
   "execution_count": 33,
   "metadata": {},
   "outputs": [],
   "source": [
    "# TODO: Implement this! (4 points)\n",
    "\n",
    "def traverse_field(text, i):\n",
    "    \n",
    "    if text[i][0] == \".\" and text[i][1].isupper():\n",
    "        return \"\", i\n",
    "    \n",
    "    field = text[i][:-1]\n",
    "    i += 1\n",
    "    \n",
    "    while text[i][0] != \".\" and not text[i][1].isupper():\n",
    "        if text[i][0] == \" \" or field[-1] == \" \":\n",
    "            field += text[i][:-1]\n",
    "        else:\n",
    "            field += \" \" + text[i][:-1]\n",
    "        i += 1\n",
    "        \n",
    "    return field, i\n",
    "\n",
    "\n",
    "def read_cacm_docs(root_folder = \"./datasets/\"):\n",
    "    \"\"\"\n",
    "        Reads in the CACM documents. The dataset is assumed to be in the folder \"./datasets/cacm\" be default\n",
    "        Returns: A list of 2-tuples: (doc_id, document), where 'document' is a single string created by \n",
    "            appending the title and abstract (seperated by a \"\\n\"). \n",
    "            In case the record doesn't have an abstract, the document is composed only by the title\n",
    "    \"\"\"\n",
    "    \n",
    "    docs = []\n",
    "    with open(root_folder + \"cacm.all\", \"r\") as f:\n",
    "        text = f.readlines()\n",
    "        i = 0\n",
    "        while i < (len(text)):\n",
    "            \n",
    "            if text[i][:2] == \".I\":\n",
    "                if i != 0:\n",
    "                    docs.append((doc_id, document))\n",
    "                doc_id = text[i][3:-1]\n",
    "                \n",
    "            if text[i][:2] == \".T\":\n",
    "                document, i = traverse_field(text, i+1)\n",
    "\n",
    "            if text[i][:2] == \".W\":\n",
    "                abstract, i = traverse_field(text, i+1)\n",
    "                document += \"\\n\" + abstract\n",
    "            \n",
    "            i+=1     \n",
    "        docs.append((doc_id, document))\n",
    "    return docs\n",
    "\n",
    "docs = read_cacm_docs()"
   ]
  },
  {
   "cell_type": "code",
   "execution_count": 34,
   "metadata": {},
   "outputs": [],
   "source": [
    "##### \n",
    "assert len(docs) == 3204, \"There should be exactly 3204 documents\"\n",
    "##### "
   ]
  },
  {
   "cell_type": "markdown",
   "metadata": {},
   "source": [
    "---\n",
    "\n",
    "Next, let us read the queries. They are formatted similarly: "
   ]
  },
  {
   "cell_type": "code",
   "execution_count": 35,
   "metadata": {},
   "outputs": [
    {
     "name": "stdout",
     "output_type": "stream",
     "text": [
      ".I 1\r\n",
      ".W\r\n",
      " What articles exist which deal with TSS (Time Sharing System), an\r\n",
      "operating system for IBM computers?\r\n",
      ".N\r\n",
      " 1. Richard Alexander, Comp Serv, Langmuir Lab (TSS)\r\n",
      " \r\n",
      ".I 2\r\n",
      ".W\r\n",
      " I am interested in articles written either by Prieve or Udo Pooch\r\n",
      ".A\r\n",
      "Prieve, B.\r\n",
      "Pooch, U.\r\n",
      ".N\r\n",
      " 2. Richard Alexander, Comp Serv, Langmuir Lab (author = Pooch or Prieve)\r\n"
     ]
    }
   ],
   "source": [
    "##### The first 15 lines of 'query.text' has 2 queries\n",
    "# We are interested only in 2 fields. \n",
    "# 1. the '.I' - the query id\n",
    "# 2. the '.W' - the query\n",
    "# 3. the '.W' field (the abstract, which may be absent)\n",
    "!head -15 ./datasets/query.text\n",
    "#####"
   ]
  },
  {
   "cell_type": "markdown",
   "metadata": {},
   "source": [
    "---\n",
    "\n",
    "Now, write a function to read in this file:"
   ]
  },
  {
   "cell_type": "code",
   "execution_count": 36,
   "metadata": {},
   "outputs": [],
   "source": [
    "# TODO: Implement this! (3 points)\n",
    "def read_queries(root_folder = \"./datasets/\"):\n",
    "    \"\"\"\n",
    "        Reads in the CACM queries. The dataset is assumed to be in the folder \"./datasets/\" be default\n",
    "        Returns: A list of 2-tuples: (query_id, query)\n",
    "    \"\"\"\n",
    "    \n",
    "    queries = []\n",
    "    with open(root_folder + \"query.text\", \"r\") as f:\n",
    "        text = f.readlines()\n",
    "        i = 0\n",
    "        while i < (len(text)):\n",
    "            \n",
    "            if text[i][:2] == \".I\":\n",
    "                if i != 0:\n",
    "                    queries.append((query_id, query))\n",
    "                query_id = text[i][3:-1]\n",
    "                \n",
    "            if text[i][:2] == \".W\":\n",
    "                query, i = traverse_field(text, i+1)\n",
    "\n",
    "            i += 1        \n",
    "        queries.append((query_id, query[1:]))\n",
    "    return queries\n",
    "\n",
    "queries = read_queries()"
   ]
  },
  {
   "cell_type": "code",
   "execution_count": 37,
   "metadata": {},
   "outputs": [],
   "source": [
    "##### \n",
    "assert len(queries) == 64 and all([q[1] is not None for q in queries]), \"There should be exactly 64 queries\"\n",
    "##### "
   ]
  },
  {
   "cell_type": "markdown",
   "metadata": {},
   "source": [
    "---\n",
    "\n",
    "Read in the stop words:"
   ]
  },
  {
   "cell_type": "code",
   "execution_count": 38,
   "metadata": {},
   "outputs": [
    {
     "name": "stdout",
     "output_type": "stream",
     "text": [
      "a\r\n",
      "about\r\n",
      "above\r\n",
      "accordingly\r\n",
      "across\r\n",
      "after\r\n",
      "afterwards\r\n",
      "again\r\n",
      "against\r\n",
      "all\r\n"
     ]
    }
   ],
   "source": [
    "!head ./datasets/common_words"
   ]
  },
  {
   "cell_type": "code",
   "execution_count": 39,
   "metadata": {},
   "outputs": [],
   "source": [
    "# TODO: Implement this! (3 points)\n",
    "def load_stopwords(root_folder = \"./datasets\"):\n",
    "    \"\"\"\n",
    "    Load the stopwords\n",
    "    Output: A set of stopwords\n",
    "    \"\"\"\n",
    "    \n",
    "    with open(root_folder + \"/common_words\", \"r\") as f:       \n",
    "        return set(f.readlines())\n",
    "\n",
    "stopwords = load_stopwords()\n",
    "assert len(stopwords) == 428"
   ]
  },
  {
   "cell_type": "markdown",
   "metadata": {},
   "source": [
    "--- \n",
    "\n",
    "We can now write some basic text processing functions. A first step is to tokenize the text. You may use any tokenizer available in the `nltk` library:"
   ]
  },
  {
   "cell_type": "code",
   "execution_count": 40,
   "metadata": {},
   "outputs": [],
   "source": [
    "# TODO: Implement this! (5 points)\n",
    "from nltk.tokenize import TweetTokenizer\n",
    "\n",
    "def tokenize(text):\n",
    "    \"\"\"\n",
    "        Tokenize the text. \n",
    "        Input: text - a string\n",
    "        Output: a list of tokens\n",
    "    \"\"\"\n",
    "    return TweetTokenizer().tokenize(text)"
   ]
  },
  {
   "cell_type": "code",
   "execution_count": 41,
   "metadata": {},
   "outputs": [
    {
     "name": "stdout",
     "output_type": "stream",
     "text": [
      "['the', 'quick', 'brown', 'fox', 'jumps', 'over', 'the', 'lazy', 'dog']\n"
     ]
    }
   ],
   "source": [
    "#####\n",
    "text = \"the quick brown fox jumps over the lazy dog\"\n",
    "tokens = tokenize(text)\n",
    "print(tokens)\n",
    "#####"
   ]
  },
  {
   "cell_type": "markdown",
   "metadata": {},
   "source": [
    "---\n",
    "\n",
    "*Answer the following questions*: \n",
    "- Why is stemming necessary, in particular for IR?\n",
    "    - *TODO: Answer this!*\n",
    "- Is there any setting (domain, scenario, etc) in which stemming can hurt performance? Illustrate with an example\n",
    "    - *TODO: Answer this!*"
   ]
  },
  {
   "cell_type": "markdown",
   "metadata": {},
   "source": [
    "Write a function to stem tokens. Again, you can use the `nltk` library for this"
   ]
  },
  {
   "cell_type": "code",
   "execution_count": 92,
   "metadata": {},
   "outputs": [],
   "source": [
    "# TODO: Implement this! (5 points)\n",
    "from nltk.stem.snowball import EnglishStemmer\n",
    "\n",
    "def stem_token(token):\n",
    "    \"\"\"\n",
    "        Stem the given token, using any stemmer available from the nltk library\n",
    "        Input: a single token\n",
    "        Output: the stem of the token\n",
    "    \"\"\"\n",
    "    return EnglishStemmer().stem(token)"
   ]
  },
  {
   "cell_type": "code",
   "execution_count": 93,
   "metadata": {},
   "outputs": [
    {
     "name": "stdout",
     "output_type": "stream",
     "text": [
      "['the', 'quick', 'brown', 'fox', 'jump', 'over', 'the', 'lazi', 'dog']\n",
      "['caress', 'fli', 'die', 'mule', 'deni', 'die', 'agre', 'own', 'humbl', 'size', 'meet', 'state', 'siez', 'item', 'sensat', 'tradit', 'refer', 'colon', 'plot']\n"
     ]
    }
   ],
   "source": [
    "####\n",
    "print([stem_token(t) for t in tokens])\n",
    "tokens_ = [\n",
    "    'caresses', 'flies', 'dies', 'mules', 'denied',\n",
    "    'died', 'agreed', 'owned', 'humbled', 'sized',\n",
    "    'meeting', 'stating', 'siezing', 'itemization',\n",
    "    'sensational', 'traditional', 'reference', 'colonizer',\n",
    "    'plotted']\n",
    "print([stem_token(t) for t in tokens_])\n",
    "####"
   ]
  },
  {
   "cell_type": "markdown",
   "metadata": {},
   "source": [
    "---\n",
    "\n",
    "*Answer the following questions*: \n",
    "- Another processing step (not done here) is to use n-grams. Illustrate why you would want to use n-grams in IR with an example.  \n",
    "    - *TODO: Answer this!*\n",
    "- Usage of n-grams exacerbates some problems ex. in bi-gram language models. What is this problem? Suggest one solution \n",
    "    - *TODO: Answer this!*"
   ]
  },
  {
   "cell_type": "markdown",
   "metadata": {},
   "source": [
    "--- \n",
    "\n",
    "The following function puts it all together. Given a string, it tokenizes it, and processes it according to the flags that you set."
   ]
  },
  {
   "cell_type": "code",
   "execution_count": 94,
   "metadata": {},
   "outputs": [],
   "source": [
    "#### Putting it all together\n",
    "def process_text(text, stem=False, remove_stopwords=False, lowercase_text=False):\n",
    "    \n",
    "    tokens = []\n",
    "    for token in tokenize(text):\n",
    "        if remove_stopwords and token.lower() in stopwords:\n",
    "            continue\n",
    "        if stem:\n",
    "            token = stem_token(token)\n",
    "        if lowercase_text:\n",
    "            token = token.lower()\n",
    "        tokens.append(token)\n",
    "\n",
    "    return tokens\n",
    "#### "
   ]
  },
  {
   "cell_type": "markdown",
   "metadata": {},
   "source": [
    "Let's create two sets of pre-processed documents"
   ]
  },
  {
   "cell_type": "code",
   "execution_count": 95,
   "metadata": {},
   "outputs": [],
   "source": [
    "# In this configuration:\n",
    "# Don't preprocess the text, except to tokenize \n",
    "config_1 = {\n",
    "  \"stem\": False,\n",
    "  \"remove_stopwords\" : False,\n",
    "  \"lowercase_text\": True\n",
    "} \n",
    "\n",
    "\n",
    "# In this configuration:\n",
    "# Preprocess the text: stem and remove stopwords\n",
    "config_2 = {\n",
    "  \"stem\": True,\n",
    "  \"remove_stopwords\" : True,\n",
    "  \"lowercase_text\": True, \n",
    "} \n"
   ]
  },
  {
   "cell_type": "markdown",
   "metadata": {},
   "source": [
    "We can now process the documents and queries according to the configuration specified above"
   ]
  },
  {
   "cell_type": "code",
   "execution_count": 96,
   "metadata": {},
   "outputs": [],
   "source": [
    "####\n",
    "doc_repr_1 = []\n",
    "doc_repr_2 = []\n",
    "for (doc_id, document) in docs:\n",
    "    doc_repr_1.append((doc_id, process_text(document, **config_1)))\n",
    "    doc_repr_2.append((doc_id, process_text(document, **config_2)))\n",
    "\n",
    "####"
   ]
  },
  {
   "cell_type": "markdown",
   "metadata": {},
   "source": [
    "\n",
    "--- \n",
    "\n",
    "## Section 2: Indexing (10 points)\n",
    "\n",
    "\n",
    "A retrieval function usually takes in a query document pair, and scores a query against a document.  Our document set is quite small - just a few thousand documents. However, consider a web-scale dataset with a few million documents. In such a scenario, it would become infeasible to score every query and document pair. In such a case, we can build an inverted index. From Wikipedia:\n",
    "\n",
    "> ... , an inverted index (also referred to as a postings file or inverted file) is a database index storing a mapping from content, such as words or numbers, to its locations in a table, .... The purpose of an inverted index is to allow fast full-text searches, at a cost of increased processing when a document is added to the database. ...\n",
    "\n",
    "\n",
    "Consider a simple inverted index, which maps from word to document. This can improve the performance of a retrieval system significantly. In this assignment, we consider a *simple* inverted index, which maps a word to a set of documents. In practice, however, more complex indices might be used.  \n",
    "\n",
    "\n",
    "### Building an index\n",
    "\n",
    "A retrieval function usually takes in a query document pair, and scores a query against a document.  Our document set is quite small - just a few thousand documents. However, consider a web-scale dataset with a few million documents. In such a scenario, it would become infeasible to score every query and document pair. In such a case, we can build an inverted index. From Wikipedia:\n",
    "\n",
    "> ... , an inverted index (also referred to as a postings file or inverted file) is a database index storing a mapping from content, such as words or numbers, to its locations in a table, .... The purpose of an inverted index is to allow fast full-text searches, at a cost of increased processing when a document is added to the database. ...\n",
    "\n",
    "\n",
    "Consider a simple inverted index, which maps from word to document. This can improve the performance of a retrieval system significantly. In this assignment, we consider a *simple* inverted index, which maps a word to a set of documents. In practice, however, more complex indices might be used.  \n"
   ]
  },
  {
   "cell_type": "markdown",
   "metadata": {},
   "source": [
    "---\n",
    "\n",
    "In this assignment we will be using an index created in memory, since our dataset is tiny. To get started, build a simple index that maps simply counts the number of tokens present in a document. This index  is built using a python dictionary.\n",
    "\n",
    "*Answer the following questions*:\n",
    "- What is the time complexity of retrieving a list of documents from a python `dict` object? \n",
    "    - *TODO: Answer this!*\n",
    "- Consider the case with a 10 million documents. What is the time complexity of retrieval with an inverted index (assuming you can fit the entire index in memory)? (Hint: Consider length of a query $|q|$) \n",
    "    - *TODO: Answer this!*\n",
    "- For a large enough collection, we cannot store an index in memory. How is this tackled in practice (briefly explain)? Comment on the time complexity. \n",
    "    - *TODO: Answer this!*\n",
    "- Mention a use-case in which a simple index (from word -> doc_id) might not suffice anymore. How would you modify the index to suit this use-case (if you can!)  \n",
    "    - *TODO: Answer this!*\n",
    "    \n",
    "    \n",
    "Now, implement a function to build an index:"
   ]
  },
  {
   "cell_type": "code",
   "execution_count": 97,
   "metadata": {},
   "outputs": [],
   "source": [
    "from collections import defaultdict\n",
    "\n",
    "#10 points\n",
    "def build_tf_index(documents):\n",
    "    \"\"\"\n",
    "    Build an inverted index (with counts). The output is a dictionary which takes in a token\n",
    "    and returns a list of (doc_id, count) where 'count' is the count of the 'token' in 'doc_id'\n",
    "    Input: a list of documents - (doc_id, tokens) \n",
    "    Output: An inverted index. [token] -> [(doc_id, token_count)]\n",
    "    \"\"\"\n",
    "    \n",
    "    inv_idx = defaultdict(list)\n",
    "    for (doc_id, doc) in documents:\n",
    "        \n",
    "        doc_counts = {}\n",
    "        for token in doc:\n",
    "            if token not in doc_counts:\n",
    "                doc_counts[token] = 1\n",
    "            else:\n",
    "                doc_counts[token] += 1\n",
    "        \n",
    "        for key in doc_counts:\n",
    "            inv_idx[key].append((doc_id, doc_counts[key]))\n",
    "                \n",
    "    return inv_idx \n",
    "    \n",
    "        \n",
    "# Create the 2 indices\n",
    "tf_index_1 = build_tf_index(doc_repr_1)\n",
    "tf_index_2 = build_tf_index(doc_repr_2)\n",
    "\n",
    "\n",
    "# This function returns the correct index \n",
    "def get_index(index_set):\n",
    "    assert index_set in {1, 2}\n",
    "    return {\n",
    "        1: tf_index_1,\n",
    "        2: tf_index_2\n",
    "    }[index_set]\n",
    "\n",
    "\n",
    "# This function correctly pre-processes the text given the index set\n",
    "def preprocess_query(text, index_set):\n",
    "    assert index_set in {1, 2}\n",
    "    if index_set == 1:\n",
    "        return process_text(text, **config_1)\n",
    "    elif index_set == 2:\n",
    "        return process_text(text, **config_2)\n",
    "    "
   ]
  },
  {
   "cell_type": "markdown",
   "metadata": {},
   "source": [
    "--- \n",
    "\n",
    "## Section 3: Retrieval  (80 points)\n",
    "\n",
    "Now that we have cleaned and processed our dataset, we can start building simple IR systems. \n",
    "\n",
    "For now, we consider *simple* IR systems, which involve computing scores from the tokens present in the document/query. More advanced methods are covered in later assignments.\n",
    "\n",
    "We will implement the following methods in this section:\n",
    "- TF-IDF\n",
    "- BM25\n",
    "- Query Likelihood Models\n",
    "\n",
    "--- \n",
    "\n",
    "### Ranking functions\n",
    "\n",
    "\n",
    "Probably the simplest IR model is the Bag of Words (BOW) model. Implement a function that scores a query against a document using this model.   \n",
    "\n",
    "Note that you can use either the count of the token or 'binarize' it i.e set the value equal to 1 if the token appears.   \n"
   ]
  },
  {
   "cell_type": "markdown",
   "metadata": {},
   "source": [
    "**Note:** Make sure you use the `get_index` function to retrieve the correct index, and call `preprocess_query` with the correct index!"
   ]
  },
  {
   "cell_type": "code",
   "execution_count": 98,
   "metadata": {},
   "outputs": [],
   "source": [
    "# 10 points\n",
    "def bow_search(query, index_set):\n",
    "    \"\"\"\n",
    "        Perform a search over all documents with the given query. \n",
    "        Note #1: You have to use the `get_index` function created in the previous cells\n",
    "        Note #2: You can binarize the counts if you wish to\n",
    "        Input: \n",
    "            query - a (unprocessed) query\n",
    "            index_set - the index to use\n",
    "        Output: a list of (document_id, score), sorted in descending relevance to the given query \n",
    "    \"\"\"\n",
    "    \n",
    "    index = get_index(index_set)\n",
    "    tok_query = preprocess_query(query, index_set)\n",
    "    rel_list = defaultdict(int)\n",
    "    \n",
    "    for token in tok_query:\n",
    "        if token in index:\n",
    "            for (doc_id, count) in index[token]:\n",
    "                rel_list[doc_id] += count\n",
    "    \n",
    "    rel_sum = sum(rel_list.values())\n",
    "    for k in rel_list: \n",
    "        rel_list[k] /= rel_sum\n",
    "        \n",
    "    return sorted(rel_list.items(), key = lambda rl:(rl[1], rl[0]), reverse = True)"
   ]
  },
  {
   "cell_type": "markdown",
   "metadata": {},
   "source": [
    "*Answer the following questions*: \n",
    "- The BOW model is might not be a good choice for use in IR. Why? \n",
    "    - *TODO: Answer this!*"
   ]
  },
  {
   "cell_type": "code",
   "execution_count": 99,
   "metadata": {},
   "outputs": [
    {
     "name": "stdout",
     "output_type": "stream",
     "text": [
      "BOW Results:\n",
      "Rank 0(0.076): Rejuvenating Experimental Computer Science\\nThis r...\n",
      "Rank 1(0.045): An Information Algebra - Phase I Report-Language S...\n",
      "Rank 2(0.03): ALGOL 60 Confidential\\nThe ALGOL 60 Report,* when ...\n",
      "Rank 3(0.03): Revised Report on the Algorithmic Language ALGOL 6...\n",
      "Rank 4(0.03): Introduction to \"Feature Analysis of Generalized D...\n"
     ]
    }
   ],
   "source": [
    "####\n",
    "docs_by_id = dict(docs)\n",
    "def print_results(docs, len_limit=50):    \n",
    "    for i, (doc_id, score) in enumerate(docs):\n",
    "        doc_content = docs_by_id[doc_id].strip().replace(\"\\n\", \"\\\\n\")[:len_limit] + \"...\"\n",
    "        print(f\"Rank {i}({score:.2}): {doc_content}\")\n",
    "\n",
    "test_bow = bow_search(\"report\", index_set=1)[:5]\n",
    "print(f\"BOW Results:\")\n",
    "print_results(test_bow)\n",
    "#### "
   ]
  },
  {
   "cell_type": "markdown",
   "metadata": {},
   "source": [
    "Before we implement the tf-idf scoring functions, let's first write a function to compute the document frequencies of all words.  "
   ]
  },
  {
   "cell_type": "code",
   "execution_count": 79,
   "metadata": {},
   "outputs": [],
   "source": [
    "# 5 points\n",
    "def compute_df(documents):\n",
    "    \"\"\"\n",
    "        Compute the document frequency of all terms in the vocabulary\n",
    "        Input: A list of documents\n",
    "        Output: A dictionary with {token: document frequency)\n",
    "    \"\"\"\n",
    "    \n",
    "    df = defaultdict(int)\n",
    "    for doc in documents:\n",
    "        for token in doc:\n",
    "            df[token] += 1\n",
    "       \n",
    "    return df\n",
    "\n",
    "\n",
    "# get the document frequencies of each document\n",
    "df_1 = compute_df([d[1] for d in doc_repr_1])\n",
    "df_2 = compute_df([d[1] for d in doc_repr_2])\n",
    "\n",
    "def get_df(index_set):\n",
    "    assert index_set in {1, 2}\n",
    "    return {\n",
    "        1: df_1,\n",
    "        2: df_2\n",
    "    }[index_set]"
   ]
  },
  {
   "cell_type": "markdown",
   "metadata": {},
   "source": [
    "Next, implement a function that computes a tf-idf score given a query.      "
   ]
  },
  {
   "cell_type": "code",
   "execution_count": 87,
   "metadata": {},
   "outputs": [],
   "source": [
    "# TODO: Implement this! 10 points\n",
    "\n",
    "def get_doc_ids(index):\n",
    "    doc_ids = set([])\n",
    "    for token in index:\n",
    "        for (d_id, c) in index[token]:\n",
    "            doc_ids.add(d_id)\n",
    "    return doc_ids\n",
    "    \n",
    "    \n",
    "def tfidf_search(query, index_set):\n",
    "    \"\"\"\n",
    "        Perform a search over all documents with the given query using tf-idf. \n",
    "        Note #1: You have to use the `get_index` (and the `get_df`) function created in the previous cells\n",
    "        Input: \n",
    "            query - a (unprocessed) query\n",
    "            index_set - the index to use\n",
    "        Output: a list of (document_id, score), sorted in descending relevance to the given query \n",
    "    \"\"\"\n",
    "    \n",
    "    N = len(get_doc_ids(index))\n",
    "    index = get_index(index_set)\n",
    "    tok_query = preprocess_query(query, index_set)\n",
    "    df = get_df(index_set)\n",
    "    rel_list = defaultdict(int)\n",
    "    \n",
    "    for token in tok_query:\n",
    "        if token in index:\n",
    "            idf = np.log10(N / df[token])\n",
    "            for (doc_id, tf) in index[token]:\n",
    "                rel_list[doc_id] += tf * idf\n",
    "                    \n",
    "    rel_sum = sum(rel_list.values())\n",
    "    for k in rel_list: \n",
    "        rel_list[k] /= rel_sum\n",
    "    return sorted(rel_list.items(), key = lambda rl:(rl[1], rl[0]), reverse = True)    "
   ]
  },
  {
   "cell_type": "code",
   "execution_count": 88,
   "metadata": {},
   "outputs": [
    {
     "name": "stdout",
     "output_type": "stream",
     "text": [
      "TFIDF Results:\n",
      "Rank 0(0.076): Rejuvenating Experimental Computer Science\\nThis r...\n",
      "Rank 1(0.045): An Information Algebra - Phase I Report-Language S...\n",
      "Rank 2(0.03): ALGOL 60 Confidential\\nThe ALGOL 60 Report,* when ...\n",
      "Rank 3(0.03): Revised Report on the Algorithmic Language ALGOL 6...\n",
      "Rank 4(0.03): Introduction to \"Feature Analysis of Generalized D...\n"
     ]
    }
   ],
   "source": [
    "####\n",
    "test_tfidf = tfidf_search(\"report\", index_set=1)[:5]\n",
    "print(f\"TFIDF Results:\")\n",
    "print_results(test_tfidf)\n",
    "####"
   ]
  },
  {
   "cell_type": "markdown",
   "metadata": {},
   "source": [
    "*Answer the following questions*: \n",
    "- It is generally not advisable to use the naive version of tf-idf. Why?\n",
    "    - *TODO: Answer this!*\n",
    "- Illustrate with an example why using a sublinear scaling for TF is preferable in some cases.  \n",
    "    - *TODO: Answer this!*"
   ]
  },
  {
   "cell_type": "markdown",
   "metadata": {},
   "source": [
    "--- \n",
    "\n",
    "*Answer the following questions*: \n",
    "- An alternative way to compute a query<>document score is to vectorize both the query and document (where each dimension corresponds to a token), and compute a score. The score can be computed using a dot product between the query and the document vectors. Why is the cosine similary function a better choice, particularly in IR? \n",
    "    - *TODO: Answer this!*\n",
    "- What is the time complexity of a search if we are using the vector space method mentioned in the previous question? What is the time complexity if we're using an index (assume that it fits in memory)? Assume $N$ is the number of documents and $|q|$ is the length of a query. \n",
    "    - *TODO: Answer this!*"
   ]
  },
  {
   "cell_type": "markdown",
   "metadata": {},
   "source": [
    "# --- \n",
    "\n",
    "#### Query Likelihood Models\n",
    "\n",
    "In this section you will implement a simple query likelihood model. \n",
    "\n",
    "First, let use implement a naive version of a QL model, assuming a multinomial unigram language model (with a uniform prior over the documents). \n",
    "\n",
    "**Note:** Make sure you use the `get_index` function to retrieve the correct index, and call `preprocess_query` with the correct index!\n",
    "\n",
    "--- \n",
    "\n",
    "*Answer the following questions*: \n",
    "- Write down the formula for computing the query likelihood, assuming a multinomial unigram language model. \n",
    "    - $\\prod_{t \\in q} P(t|M_d) = \\frac{tf(t,d)}{dl(d)}$\n",
    "- What problem does this naive method have? Suggest a simple way to fix it.\n",
    "    - If a term from the query is not in the document the probability for a document will become 0 due to multiplication by 0. A solution is to use smoothing, you can add 1 to the count for each word."
   ]
  },
  {
   "cell_type": "code",
   "execution_count": 86,
   "metadata": {},
   "outputs": [],
   "source": [
    "####\n",
    "def doc_lengths(documents):\n",
    "    doc_lengths = {doc_id:len(doc) for (doc_id, doc) in documents}\n",
    "    return doc_lengths\n",
    "\n",
    "doc_lengths_1 = doc_lengths(doc_repr_1)\n",
    "doc_lengths_2 = doc_lengths(doc_repr_2)\n",
    "\n",
    "def get_doc_lengths(index_set):\n",
    "    assert index_set in {1, 2}\n",
    "    return {\n",
    "        1: doc_lengths_1,\n",
    "        2: doc_lengths_2\n",
    "    }[index_set]\n",
    "####"
   ]
  },
  {
   "cell_type": "code",
   "execution_count": 115,
   "metadata": {},
   "outputs": [],
   "source": [
    "\n",
    "# TODO: Implement this! 15 points\n",
    "def naive_ql_search(query, index_set):\n",
    "    \"\"\"\n",
    "        Perform a search over all documents with the given query using a naive QL model. \n",
    "        Note #1: You have to use the `get_index` (and get_doc_lengths) function created in the previous cells\n",
    "        Input: \n",
    "            query - a (unprocessed) query\n",
    "            index_set - the index to use\n",
    "        Output: a list of (document_id, score), sorted in descending relevance to the given query \n",
    "    \"\"\"\n",
    "    \n",
    "    index = get_index(index_set)\n",
    "    tok_query = preprocess_query(query, index_set)\n",
    "    doc_lengths = get_doc_lengths(index_set)\n",
    "    scores = defaultdict(list)\n",
    "        \n",
    "    for token in tok_query:\n",
    "        token_score = {doc: 0 for doc in doc_lengths}\n",
    "        \n",
    "        if token in index:\n",
    "            for (doc_id, tf) in index[token]:\n",
    "                  token_score[doc_id] = tf\n",
    "                    \n",
    "            for doc in token_score:\n",
    "                scores[doc].append(token_score[doc])\n",
    "                \n",
    "        #else: return token_score\n",
    "    \n",
    "    #print(scores)\n",
    "    rel_list = {doc: np.prod(scores[doc])/doc_lengths[doc] for doc in scores}\n",
    "    rel_sum = sum(rel_list.values())\n",
    "    for k in rel_list: \n",
    "        rel_list[k] /= rel_sum\n",
    "    \n",
    "    return sorted(rel_list.items(), key = lambda rl:(rl[1], rl[0]), reverse = True)      "
   ]
  },
  {
   "cell_type": "code",
   "execution_count": 116,
   "metadata": {},
   "outputs": [
    {
     "name": "stdout",
     "output_type": "stream",
     "text": [
      "defaultdict(<class 'list'>, {'1': [0], '2': [0], '3': [0], '4': [0], '5': [0], '6': [0], '7': [0], '8': [0], '9': [0], '10': [0], '11': [0], '12': [0], '13': [0], '14': [0], '15': [0], '16': [0], '17': [0], '18': [0], '19': [0], '20': [0], '21': [0], '22': [0], '23': [0], '24': [0], '25': [0], '26': [0], '27': [0], '28': [0], '29': [0], '30': [0], '31': [0], '32': [0], '33': [0], '34': [0], '35': [0], '36': [0], '37': [0], '38': [0], '39': [0], '40': [0], '41': [0], '42': [0], '43': [0], '44': [0], '45': [0], '46': [0], '47': [0], '48': [0], '49': [0], '50': [0], '51': [0], '52': [0], '53': [0], '54': [0], '55': [0], '56': [0], '57': [0], '58': [0], '59': [0], '60': [0], '61': [0], '62': [0], '63': [0], '64': [0], '65': [1], '66': [0], '67': [0], '68': [0], '69': [0], '70': [0], '71': [0], '72': [0], '73': [0], '74': [0], '75': [0], '76': [0], '77': [0], '78': [0], '79': [0], '80': [0], '81': [0], '82': [0], '83': [0], '84': [0], '85': [0], '86': [0], '87': [0], '88': [0], '89': [0], '90': [0], '91': [0], '92': [0], '93': [0], '94': [0], '95': [0], '96': [0], '97': [0], '98': [0], '99': [0], '100': [0], '101': [0], '102': [0], '103': [0], '104': [0], '105': [0], '106': [0], '107': [0], '108': [0], '109': [0], '110': [0], '111': [0], '112': [0], '113': [0], '114': [0], '115': [0], '116': [0], '117': [0], '118': [0], '119': [0], '120': [0], '121': [0], '122': [0], '123': [0], '124': [0], '125': [0], '126': [0], '127': [0], '128': [0], '129': [0], '130': [0], '131': [0], '132': [0], '133': [0], '134': [0], '135': [0], '136': [0], '137': [0], '138': [0], '139': [0], '140': [0], '141': [0], '142': [0], '143': [0], '144': [0], '145': [0], '146': [0], '147': [1], '148': [0], '149': [0], '150': [0], '151': [0], '152': [0], '153': [0], '154': [0], '155': [0], '156': [0], '157': [0], '158': [0], '159': [0], '160': [0], '161': [0], '162': [0], '163': [0], '164': [0], '165': [0], '166': [0], '167': [0], '168': [0], '169': [0], '170': [0], '171': [0], '172': [0], '173': [0], '174': [0], '175': [0], '176': [0], '177': [0], '178': [0], '179': [0], '180': [0], '181': [0], '182': [0], '183': [0], '184': [0], '185': [0], '186': [0], '187': [0], '188': [0], '189': [0], '190': [0], '191': [0], '192': [0], '193': [0], '194': [0], '195': [0], '196': [1], '197': [0], '198': [0], '199': [0], '200': [0], '201': [0], '202': [0], '203': [0], '204': [0], '205': [0], '206': [0], '207': [0], '208': [0], '209': [0], '210': [0], '211': [0], '212': [0], '213': [0], '214': [0], '215': [0], '216': [0], '217': [0], '218': [0], '219': [0], '220': [0], '221': [0], '222': [0], '223': [0], '224': [0], '225': [0], '226': [0], '227': [0], '228': [0], '229': [0], '230': [0], '231': [0], '232': [0], '233': [0], '234': [0], '235': [0], '236': [0], '237': [0], '238': [0], '239': [0], '240': [0], '241': [0], '242': [0], '243': [0], '244': [0], '245': [0], '246': [0], '247': [0], '248': [0], '249': [0], '250': [0], '251': [0], '252': [0], '253': [0], '254': [0], '255': [0], '256': [0], '257': [0], '258': [0], '259': [0], '260': [0], '261': [0], '262': [0], '263': [0], '264': [0], '265': [0], '266': [0], '267': [0], '268': [0], '269': [0], '270': [0], '271': [0], '272': [0], '273': [0], '274': [0], '275': [0], '276': [0], '277': [0], '278': [0], '279': [0], '280': [0], '281': [0], '282': [0], '283': [0], '284': [0], '285': [0], '286': [0], '287': [0], '288': [0], '289': [0], '290': [0], '291': [0], '292': [0], '293': [0], '294': [0], '295': [0], '296': [0], '297': [0], '298': [0], '299': [0], '300': [0], '301': [0], '302': [0], '303': [0], '304': [0], '305': [0], '306': [0], '307': [0], '308': [0], '309': [0], '310': [0], '311': [0], '312': [0], '313': [0], '314': [0], '315': [0], '316': [0], '317': [0], '318': [0], '319': [0], '320': [0], '321': [2], '322': [0], '323': [0], '324': [0], '325': [0], '326': [0], '327': [0], '328': [0], '329': [1], '330': [0], '331': [0], '332': [0], '333': [0], '334': [0], '335': [0], '336': [0], '337': [0], '338': [0], '339': [0], '340': [0], '341': [0], '342': [0], '343': [0], '344': [0], '345': [0], '346': [0], '347': [0], '348': [0], '349': [0], '350': [0], '351': [0], '352': [0], '353': [0], '354': [0], '355': [0], '356': [0], '357': [0], '358': [0], '359': [0], '360': [0], '361': [0], '362': [0], '363': [0], '364': [0], '365': [0], '366': [0], '367': [0], '368': [0], '369': [0], '370': [0], '371': [0], '372': [0], '373': [0], '374': [0], '375': [0], '376': [0], '377': [0], '378': [0], '379': [0], '380': [0], '381': [0], '382': [0], '383': [0], '384': [0], '385': [0], '386': [0], '387': [0], '388': [0], '389': [0], '390': [0], '391': [0], '392': [0], '393': [0], '394': [0], '395': [0], '396': [0], '397': [0], '398': [0], '399': [0], '400': [0], '401': [0], '402': [0], '403': [0], '404': [0], '405': [0], '406': [0], '407': [0], '408': [0], '409': [0], '410': [0], '411': [0], '412': [0], '413': [0], '414': [0], '415': [0], '416': [0], '417': [0], '418': [0], '419': [0], '420': [0], '421': [0], '422': [0], '423': [0], '424': [0], '425': [0], '426': [0], '427': [0], '428': [0], '429': [0], '430': [0], '431': [0], '432': [0], '433': [0], '434': [0], '435': [0], '436': [0], '437': [0], '438': [0], '439': [0], '440': [0], '441': [0], '442': [0], '443': [0], '444': [0], '445': [0], '446': [0], '447': [0], '448': [0], '449': [0], '450': [0], '451': [0], '452': [0], '453': [0], '454': [0], '455': [0], '456': [0], '457': [0], '458': [0], '459': [0], '460': [0], '461': [0], '462': [1], '463': [0], '464': [0], '465': [0], '466': [0], '467': [0], '468': [0], '469': [0], '470': [0], '471': [0], '472': [0], '473': [0], '474': [0], '475': [0], '476': [0], '477': [0], '478': [0], '479': [0], '480': [0], '481': [0], '482': [0], '483': [0], '484': [0], '485': [0], '486': [0], '487': [0], '488': [0], '489': [0], '490': [0], '491': [0], '492': [0], '493': [0], '494': [0], '495': [0], '496': [0], '497': [0], '498': [0], '499': [0], '500': [0], '501': [0], '502': [0], '503': [0], '504': [0], '505': [0], '506': [0], '507': [0], '508': [0], '509': [0], '510': [0], '511': [0], '512': [0], '513': [0], '514': [0], '515': [0], '516': [0], '517': [0], '518': [0], '519': [0], '520': [0], '521': [0], '522': [0], '523': [0], '524': [0], '525': [0], '526': [0], '527': [0], '528': [0], '529': [0], '530': [0], '531': [0], '532': [0], '533': [0], '534': [0], '535': [0], '536': [0], '537': [0], '538': [0], '539': [0], '540': [0], '541': [0], '542': [0], '543': [0], '544': [0], '545': [0], '546': [0], '547': [0], '548': [0], '549': [0], '550': [0], '551': [0], '552': [0], '553': [0], '554': [0], '555': [0], '556': [0], '557': [0], '558': [0], '559': [0], '560': [0], '561': [0], '562': [0], '563': [0], '564': [0], '565': [0], '566': [0], '567': [0], '568': [0], '569': [0], '570': [0], '571': [0], '572': [0], '573': [0], '574': [0], '575': [0], '576': [0], '577': [0], '578': [0], '579': [0], '580': [0], '581': [0], '582': [0], '583': [0], '584': [1], '585': [0], '586': [0], '587': [0], '588': [0], '589': [0], '590': [0], '591': [0], '592': [0], '593': [0], '594': [0], '595': [0], '596': [0], '597': [0], '598': [0], '599': [1], '600': [0], '601': [1], '602': [0], '603': [0], '604': [0], '605': [0], '606': [0], '607': [0], '608': [0], '609': [0], '610': [0], '611': [0], '612': [0], '613': [0], '614': [0], '615': [0], '616': [3], '617': [0], '618': [0], '619': [0], '620': [0], '621': [0], '622': [0], '623': [0], '624': [0], '625': [0], '626': [0], '627': [0], '628': [0], '629': [0], '630': [0], '631': [0], '632': [0], '633': [0], '634': [0], '635': [0], '636': [0], '637': [1], '638': [0], '639': [0], '640': [0], '641': [0], '642': [0], '643': [0], '644': [1], '645': [0], '646': [0], '647': [0], '648': [0], '649': [0], '650': [0], '651': [0], '652': [0], '653': [0], '654': [0], '655': [0], '656': [0], '657': [0], '658': [0], '659': [0], '660': [0], '661': [0], '662': [0], '663': [0], '664': [0], '665': [0], '666': [0], '667': [0], '668': [0], '669': [0], '670': [0], '671': [0], '672': [0], '673': [0], '674': [0], '675': [0], '676': [0], '677': [0], '678': [0], '679': [0], '680': [0], '681': [0], '682': [0], '683': [0], '684': [0], '685': [0], '686': [0], '687': [0], '688': [0], '689': [1], '690': [0], '691': [1], '692': [0], '693': [0], '694': [0], '695': [0], '696': [0], '697': [0], '698': [0], '699': [0], '700': [0], '701': [0], '702': [0], '703': [0], '704': [0], '705': [0], '706': [0], '707': [0], '708': [0], '709': [0], '710': [0], '711': [0], '712': [0], '713': [0], '714': [0], '715': [0], '716': [0], '717': [0], '718': [0], '719': [0], '720': [0], '721': [1], '722': [0], '723': [0], '724': [0], '725': [0], '726': [0], '727': [0], '728': [0], '729': [0], '730': [0], '731': [0], '732': [0], '733': [0], '734': [0], '735': [0], '736': [0], '737': [0], '738': [0], '739': [0], '740': [0], '741': [0], '742': [0], '743': [0], '744': [0], '745': [0], '746': [0], '747': [0], '748': [0], '749': [0], '750': [0], '751': [0], '752': [0], '753': [0], '754': [0], '755': [0], '756': [0], '757': [0], '758': [0], '759': [0], '760': [0], '761': [0], '762': [0], '763': [0], '764': [0], '765': [0], '766': [0], '767': [0], '768': [0], '769': [0], '770': [0], '771': [0], '772': [0], '773': [0], '774': [0], '775': [0], '776': [0], '777': [0], '778': [0], '779': [0], '780': [0], '781': [0], '782': [0], '783': [0], '784': [0], '785': [0], '786': [0], '787': [0], '788': [0], '789': [0], '790': [0], '791': [0], '792': [0], '793': [0], '794': [0], '795': [0], '796': [0], '797': [0], '798': [0], '799': [0], '800': [0], '801': [0], '802': [0], '803': [0], '804': [0], '805': [0], '806': [0], '807': [0], '808': [0], '809': [0], '810': [0], '811': [0], '812': [0], '813': [0], '814': [0], '815': [0], '816': [0], '817': [0], '818': [0], '819': [0], '820': [0], '821': [0], '822': [0], '823': [0], '824': [0], '825': [0], '826': [0], '827': [0], '828': [0], '829': [0], '830': [0], '831': [0], '832': [0], '833': [0], '834': [0], '835': [0], '836': [0], '837': [0], '838': [0], '839': [0], '840': [0], '841': [0], '842': [0], '843': [0], '844': [0], '845': [0], '846': [0], '847': [0], '848': [0], '849': [0], '850': [0], '851': [0], '852': [0], '853': [0], '854': [0], '855': [0], '856': [0], '857': [0], '858': [0], '859': [0], '860': [0], '861': [0], '862': [0], '863': [0], '864': [0], '865': [0], '866': [0], '867': [0], '868': [0], '869': [0], '870': [0], '871': [0], '872': [0], '873': [0], '874': [0], '875': [0], '876': [0], '877': [0], '878': [0], '879': [0], '880': [0], '881': [0], '882': [0], '883': [0], '884': [0], '885': [0], '886': [0], '887': [0], '888': [0], '889': [0], '890': [0], '891': [0], '892': [0], '893': [0], '894': [0], '895': [0], '896': [0], '897': [0], '898': [0], '899': [0], '900': [0], '901': [0], '902': [0], '903': [0], '904': [0], '905': [0], '906': [0], '907': [0], '908': [0], '909': [0], '910': [0], '911': [0], '912': [0], '913': [0], '914': [0], '915': [0], '916': [0], '917': [0], '918': [0], '919': [0], '920': [0], '921': [0], '922': [0], '923': [0], '924': [0], '925': [0], '926': [0], '927': [0], '928': [0], '929': [0], '930': [0], '931': [0], '932': [0], '933': [0], '934': [0], '935': [0], '936': [0], '937': [0], '938': [0], '939': [0], '940': [0], '941': [0], '942': [0], '943': [0], '944': [0], '945': [0], '946': [1], '947': [1], '948': [0], '949': [0], '950': [0], '951': [0], '952': [0], '953': [0], '954': [0], '955': [0], '956': [0], '957': [0], '958': [0], '959': [0], '960': [0], '961': [0], '962': [0], '963': [0], '964': [0], '965': [0], '966': [0], '967': [0], '968': [0], '969': [0], '970': [0], '971': [0], '972': [0], '973': [0], '974': [0], '975': [0], '976': [0], '977': [0], '978': [0], '979': [0], '980': [0], '981': [0], '982': [0], '983': [0], '984': [1], '985': [1], '986': [0], '987': [0], '988': [0], '989': [0], '990': [0], '991': [0], '992': [0], '993': [0], '994': [0], '995': [0], '996': [0], '997': [0], '998': [0], '999': [0], '1000': [0], '1001': [0], '1002': [0], '1003': [0], '1004': [0], '1005': [0], '1006': [0], '1007': [0], '1008': [0], '1009': [0], '1010': [0], '1011': [0], '1012': [0], '1013': [0], '1014': [0], '1015': [0], '1016': [0], '1017': [0], '1018': [0], '1019': [0], '1020': [0], '1021': [0], '1022': [0], '1023': [0], '1024': [0], '1025': [1], '1026': [0], '1027': [0], '1028': [0], '1029': [0], '1030': [0], '1031': [0], '1032': [0], '1033': [0], '1034': [0], '1035': [0], '1036': [0], '1037': [0], '1038': [0], '1039': [0], '1040': [0], '1041': [0], '1042': [0], '1043': [0], '1044': [0], '1045': [0], '1046': [0], '1047': [0], '1048': [0], '1049': [0], '1050': [0], '1051': [1], '1052': [0], '1053': [0], '1054': [0], '1055': [0], '1056': [0], '1057': [0], '1058': [0], '1059': [0], '1060': [0], '1061': [0], '1062': [0], '1063': [0], '1064': [0], '1065': [0], '1066': [0], '1067': [0], '1068': [0], '1069': [0], '1070': [0], '1071': [0], '1072': [0], '1073': [0], '1074': [0], '1075': [0], '1076': [0], '1077': [0], '1078': [0], '1079': [0], '1080': [0], '1081': [0], '1082': [0], '1083': [0], '1084': [0], '1085': [0], '1086': [1], '1087': [0], '1088': [0], '1089': [0], '1090': [0], '1091': [0], '1092': [0], '1093': [0], '1094': [0], '1095': [0], '1096': [0], '1097': [0], '1098': [0], '1099': [0], '1100': [0], '1101': [0], '1102': [0], '1103': [0], '1104': [0], '1105': [0], '1106': [0], '1107': [0], '1108': [0], '1109': [0], '1110': [0], '1111': [0], '1112': [0], '1113': [0], '1114': [0], '1115': [0], '1116': [0], '1117': [0], '1118': [0], '1119': [0], '1120': [0], '1121': [0], '1122': [0], '1123': [0], '1124': [0], '1125': [0], '1126': [0], '1127': [0], '1128': [0], '1129': [0], '1130': [0], '1131': [0], '1132': [0], '1133': [0], '1134': [0], '1135': [0], '1136': [0], '1137': [0], '1138': [0], '1139': [0], '1140': [0], '1141': [0], '1142': [0], '1143': [0], '1144': [0], '1145': [0], '1146': [0], '1147': [0], '1148': [0], '1149': [0], '1150': [0], '1151': [0], '1152': [0], '1153': [0], '1154': [0], '1155': [0], '1156': [0], '1157': [0], '1158': [0], '1159': [0], '1160': [0], '1161': [0], '1162': [0], '1163': [0], '1164': [0], '1165': [0], '1166': [0], '1167': [0], '1168': [0], '1169': [0], '1170': [0], '1171': [0], '1172': [0], '1173': [0], '1174': [0], '1175': [0], '1176': [0], '1177': [0], '1178': [0], '1179': [0], '1180': [0], '1181': [0], '1182': [0], '1183': [0], '1184': [0], '1185': [0], '1186': [0], '1187': [0], '1188': [0], '1189': [0], '1190': [0], '1191': [0], '1192': [0], '1193': [0], '1194': [0], '1195': [0], '1196': [0], '1197': [0], '1198': [0], '1199': [0], '1200': [0], '1201': [0], '1202': [0], '1203': [0], '1204': [0], '1205': [0], '1206': [0], '1207': [0], '1208': [0], '1209': [0], '1210': [0], '1211': [0], '1212': [0], '1213': [0], '1214': [0], '1215': [0], '1216': [0], '1217': [0], '1218': [0], '1219': [0], '1220': [0], '1221': [0], '1222': [0], '1223': [0], '1224': [0], '1225': [0], '1226': [0], '1227': [0], '1228': [0], '1229': [0], '1230': [0], '1231': [0], '1232': [0], '1233': [0], '1234': [0], '1235': [0], '1236': [0], '1237': [0], '1238': [0], '1239': [0], '1240': [0], '1241': [0], '1242': [0], '1243': [0], '1244': [0], '1245': [0], '1246': [0], '1247': [0], '1248': [0], '1249': [0], '1250': [0], '1251': [0], '1252': [0], '1253': [0], '1254': [0], '1255': [0], '1256': [0], '1257': [0], '1258': [0], '1259': [0], '1260': [0], '1261': [0], '1262': [0], '1263': [0], '1264': [0], '1265': [0], '1266': [0], '1267': [0], '1268': [0], '1269': [0], '1270': [0], '1271': [0], '1272': [0], '1273': [0], '1274': [0], '1275': [0], '1276': [0], '1277': [0], '1278': [0], '1279': [0], '1280': [0], '1281': [0], '1282': [0], '1283': [0], '1284': [0], '1285': [0], '1286': [0], '1287': [0], '1288': [0], '1289': [0], '1290': [0], '1291': [0], '1292': [0], '1293': [0], '1294': [0], '1295': [0], '1296': [0], '1297': [0], '1298': [0], '1299': [0], '1300': [0], '1301': [0], '1302': [0], '1303': [0], '1304': [0], '1305': [0], '1306': [0], '1307': [0], '1308': [0], '1309': [0], '1310': [0], '1311': [0], '1312': [0], '1313': [0], '1314': [0], '1315': [0], '1316': [0], '1317': [0], '1318': [0], '1319': [0], '1320': [0], '1321': [0], '1322': [0], '1323': [0], '1324': [0], '1325': [1], '1326': [0], '1327': [0], '1328': [0], '1329': [0], '1330': [0], '1331': [0], '1332': [0], '1333': [0], '1334': [0], '1335': [0], '1336': [0], '1337': [0], '1338': [0], '1339': [0], '1340': [0], '1341': [0], '1342': [0], '1343': [0], '1344': [0], '1345': [0], '1346': [0], '1347': [0], '1348': [0], '1349': [1], '1350': [0], '1351': [0], '1352': [0], '1353': [0], '1354': [0], '1355': [0], '1356': [0], '1357': [0], '1358': [0], '1359': [0], '1360': [0], '1361': [0], '1362': [0], '1363': [0], '1364': [0], '1365': [0], '1366': [0], '1367': [0], '1368': [0], '1369': [0], '1370': [0], '1371': [0], '1372': [0], '1373': [0], '1374': [0], '1375': [0], '1376': [0], '1377': [0], '1378': [0], '1379': [0], '1380': [0], '1381': [0], '1382': [0], '1383': [0], '1384': [0], '1385': [0], '1386': [0], '1387': [0], '1388': [0], '1389': [0], '1390': [0], '1391': [0], '1392': [0], '1393': [0], '1394': [0], '1395': [0], '1396': [0], '1397': [0], '1398': [0], '1399': [0], '1400': [0], '1401': [0], '1402': [0], '1403': [0], '1404': [0], '1405': [0], '1406': [0], '1407': [0], '1408': [0], '1409': [0], '1410': [0], '1411': [0], '1412': [0], '1413': [0], '1414': [0], '1415': [0], '1416': [2], '1417': [0], '1418': [0], '1419': [0], '1420': [0], '1421': [0], '1422': [0], '1423': [0], '1424': [0], '1425': [0], '1426': [0], '1427': [0], '1428': [0], '1429': [0], '1430': [0], '1431': [0], '1432': [0], '1433': [0], '1434': [0], '1435': [0], '1436': [0], '1437': [0], '1438': [0], '1439': [0], '1440': [0], '1441': [0], '1442': [0], '1443': [0], '1444': [0], '1445': [0], '1446': [0], '1447': [0], '1448': [0], '1449': [0], '1450': [0], '1451': [0], '1452': [0], '1453': [0], '1454': [0], '1455': [0], '1456': [0], '1457': [0], '1458': [0], '1459': [0], '1460': [0], '1461': [0], '1462': [0], '1463': [0], '1464': [0], '1465': [0], '1466': [0], '1467': [0], '1468': [0], '1469': [0], '1470': [0], '1471': [0], '1472': [0], '1473': [0], '1474': [0], '1475': [0], '1476': [2], '1477': [0], '1478': [0], '1479': [0], '1480': [0], '1481': [0], '1482': [0], '1483': [0], '1484': [0], '1485': [0], '1486': [0], '1487': [0], '1488': [0], '1489': [0], '1490': [0], '1491': [0], '1492': [0], '1493': [0], '1494': [0], '1495': [0], '1496': [0], '1497': [0], '1498': [0], '1499': [0], '1500': [0], '1501': [0], '1502': [0], '1503': [0], '1504': [0], '1505': [0], '1506': [0], '1507': [0], '1508': [0], '1509': [0], '1510': [0], '1511': [0], '1512': [0], '1513': [0], '1514': [0], '1515': [0], '1516': [0], '1517': [0], '1518': [0], '1519': [0], '1520': [0], '1521': [0], '1522': [0], '1523': [0], '1524': [0], '1525': [0], '1526': [0], '1527': [0], '1528': [0], '1529': [0], '1530': [0], '1531': [1], '1532': [0], '1533': [0], '1534': [0], '1535': [0], '1536': [0], '1537': [0], '1538': [0], '1539': [0], '1540': [0], '1541': [0], '1542': [0], '1543': [0], '1544': [0], '1545': [0], '1546': [0], '1547': [0], '1548': [0], '1549': [0], '1550': [0], '1551': [0], '1552': [0], '1553': [0], '1554': [0], '1555': [0], '1556': [0], '1557': [0], '1558': [0], '1559': [0], '1560': [0], '1561': [0], '1562': [0], '1563': [0], '1564': [0], '1565': [0], '1566': [0], '1567': [0], '1568': [0], '1569': [0], '1570': [0], '1571': [0], '1572': [0], '1573': [0], '1574': [0], '1575': [0], '1576': [0], '1577': [0], '1578': [0], '1579': [0], '1580': [0], '1581': [0], '1582': [0], '1583': [0], '1584': [0], '1585': [0], '1586': [0], '1587': [0], '1588': [0], '1589': [0], '1590': [0], '1591': [0], '1592': [0], '1593': [0], '1594': [0], '1595': [0], '1596': [0], '1597': [0], '1598': [0], '1599': [0], '1600': [0], '1601': [0], '1602': [0], '1603': [0], '1604': [0], '1605': [0], '1606': [0], '1607': [0], '1608': [0], '1609': [0], '1610': [0], '1611': [0], '1612': [0], '1613': [0], '1614': [0], '1615': [0], '1616': [0], '1617': [0], '1618': [0], '1619': [0], '1620': [0], '1621': [0], '1622': [0], '1623': [0], '1624': [0], '1625': [0], '1626': [0], '1627': [0], '1628': [0], '1629': [0], '1630': [0], '1631': [0], '1632': [0], '1633': [0], '1634': [0], '1635': [0], '1636': [0], '1637': [0], '1638': [0], '1639': [0], '1640': [0], '1641': [0], '1642': [0], '1643': [0], '1644': [0], '1645': [0], '1646': [0], '1647': [0], '1648': [0], '1649': [0], '1650': [0], '1651': [0], '1652': [0], '1653': [0], '1654': [0], '1655': [0], '1656': [0], '1657': [0], '1658': [0], '1659': [1], '1660': [0], '1661': [0], '1662': [0], '1663': [0], '1664': [0], '1665': [0], '1666': [0], '1667': [0], '1668': [0], '1669': [0], '1670': [0], '1671': [0], '1672': [0], '1673': [0], '1674': [0], '1675': [0], '1676': [0], '1677': [0], '1678': [0], '1679': [0], '1680': [0], '1681': [0], '1682': [0], '1683': [0], '1684': [0], '1685': [0], '1686': [0], '1687': [0], '1688': [0], '1689': [0], '1690': [0], '1691': [0], '1692': [0], '1693': [0], '1694': [0], '1695': [0], '1696': [0], '1697': [0], '1698': [0], '1699': [0], '1700': [0], '1701': [0], '1702': [0], '1703': [0], '1704': [0], '1705': [0], '1706': [0], '1707': [0], '1708': [0], '1709': [0], '1710': [0], '1711': [0], '1712': [0], '1713': [0], '1714': [0], '1715': [0], '1716': [0], '1717': [0], '1718': [0], '1719': [0], '1720': [0], '1721': [0], '1722': [0], '1723': [0], '1724': [0], '1725': [0], '1726': [0], '1727': [0], '1728': [0], '1729': [0], '1730': [0], '1731': [0], '1732': [0], '1733': [0], '1734': [0], '1735': [0], '1736': [0], '1737': [0], '1738': [0], '1739': [0], '1740': [0], '1741': [0], '1742': [0], '1743': [0], '1744': [0], '1745': [0], '1746': [0], '1747': [0], '1748': [0], '1749': [0], '1750': [0], '1751': [0], '1752': [0], '1753': [0], '1754': [0], '1755': [0], '1756': [0], '1757': [0], '1758': [0], '1759': [0], '1760': [0], '1761': [0], '1762': [0], '1763': [0], '1764': [0], '1765': [1], '1766': [0], '1767': [0], '1768': [0], '1769': [0], '1770': [0], '1771': [2], '1772': [0], '1773': [0], '1774': [0], '1775': [0], '1776': [0], '1777': [0], '1778': [0], '1779': [0], '1780': [0], '1781': [0], '1782': [0], '1783': [0], '1784': [0], '1785': [0], '1786': [0], '1787': [0], '1788': [0], '1789': [0], '1790': [0], '1791': [0], '1792': [0], '1793': [0], '1794': [0], '1795': [0], '1796': [0], '1797': [0], '1798': [0], '1799': [0], '1800': [0], '1801': [0], '1802': [0], '1803': [0], '1804': [0], '1805': [0], '1806': [0], '1807': [0], '1808': [0], '1809': [0], '1810': [0], '1811': [0], '1812': [0], '1813': [0], '1814': [0], '1815': [0], '1816': [0], '1817': [0], '1818': [0], '1819': [0], '1820': [0], '1821': [0], '1822': [0], '1823': [0], '1824': [0], '1825': [0], '1826': [0], '1827': [0], '1828': [0], '1829': [0], '1830': [0], '1831': [0], '1832': [0], '1833': [0], '1834': [0], '1835': [0], '1836': [0], '1837': [0], '1838': [0], '1839': [0], '1840': [0], '1841': [0], '1842': [0], '1843': [0], '1844': [0], '1845': [0], '1846': [0], '1847': [0], '1848': [0], '1849': [0], '1850': [0], '1851': [0], '1852': [0], '1853': [0], '1854': [0], '1855': [0], '1856': [0], '1857': [0], '1858': [0], '1859': [0], '1860': [0], '1861': [0], '1862': [0], '1863': [0], '1864': [0], '1865': [0], '1866': [0], '1867': [0], '1868': [0], '1869': [0], '1870': [0], '1871': [0], '1872': [0], '1873': [0], '1874': [0], '1875': [0], '1876': [0], '1877': [0], '1878': [0], '1879': [0], '1880': [0], '1881': [0], '1882': [0], '1883': [0], '1884': [0], '1885': [0], '1886': [0], '1887': [0], '1888': [0], '1889': [1], '1890': [0], '1891': [0], '1892': [0], '1893': [0], '1894': [0], '1895': [0], '1896': [0], '1897': [0], '1898': [0], '1899': [0], '1900': [0], '1901': [0], '1902': [0], '1903': [0], '1904': [0], '1905': [0], '1906': [0], '1907': [0], '1908': [0], '1909': [0], '1910': [0], '1911': [0], '1912': [0], '1913': [0], '1914': [0], '1915': [0], '1916': [0], '1917': [0], '1918': [0], '1919': [0], '1920': [0], '1921': [0], '1922': [0], '1923': [0], '1924': [0], '1925': [0], '1926': [0], '1927': [1], '1928': [0], '1929': [0], '1930': [0], '1931': [0], '1932': [0], '1933': [0], '1934': [0], '1935': [0], '1936': [0], '1937': [0], '1938': [0], '1939': [0], '1940': [0], '1941': [0], '1942': [0], '1943': [0], '1944': [0], '1945': [0], '1946': [0], '1947': [0], '1948': [0], '1949': [0], '1950': [0], '1951': [0], '1952': [0], '1953': [0], '1954': [0], '1955': [0], '1956': [0], '1957': [0], '1958': [0], '1959': [0], '1960': [0], '1961': [0], '1962': [0], '1963': [0], '1964': [0], '1965': [0], '1966': [0], '1967': [0], '1968': [0], '1969': [0], '1970': [0], '1971': [0], '1972': [0], '1973': [0], '1974': [0], '1975': [0], '1976': [0], '1977': [0], '1978': [0], '1979': [0], '1980': [0], '1981': [0], '1982': [0], '1983': [0], '1984': [0], '1985': [0], '1986': [0], '1987': [0], '1988': [0], '1989': [0], '1990': [0], '1991': [0], '1992': [0], '1993': [0], '1994': [0], '1995': [0], '1996': [0], '1997': [0], '1998': [0], '1999': [0], '2000': [0], '2001': [0], '2002': [0], '2003': [0], '2004': [0], '2005': [0], '2006': [0], '2007': [0], '2008': [0], '2009': [0], '2010': [0], '2011': [0], '2012': [0], '2013': [0], '2014': [0], '2015': [0], '2016': [0], '2017': [0], '2018': [0], '2019': [0], '2020': [0], '2021': [0], '2022': [0], '2023': [0], '2024': [0], '2025': [0], '2026': [0], '2027': [0], '2028': [0], '2029': [0], '2030': [0], '2031': [0], '2032': [0], '2033': [0], '2034': [0], '2035': [0], '2036': [0], '2037': [0], '2038': [0], '2039': [0], '2040': [0], '2041': [0], '2042': [0], '2043': [0], '2044': [0], '2045': [0], '2046': [1], '2047': [0], '2048': [1], '2049': [0], '2050': [0], '2051': [0], '2052': [0], '2053': [0], '2054': [0], '2055': [0], '2056': [0], '2057': [0], '2058': [0], '2059': [0], '2060': [0], '2061': [0], '2062': [0], '2063': [0], '2064': [0], '2065': [0], '2066': [0], '2067': [0], '2068': [0], '2069': [0], '2070': [0], '2071': [0], '2072': [0], '2073': [0], '2074': [0], '2075': [0], '2076': [0], '2077': [0], '2078': [0], '2079': [0], '2080': [0], '2081': [0], '2082': [0], '2083': [0], '2084': [0], '2085': [0], '2086': [0], '2087': [0], '2088': [0], '2089': [0], '2090': [0], '2091': [0], '2092': [0], '2093': [0], '2094': [0], '2095': [0], '2096': [0], '2097': [0], '2098': [0], '2099': [0], '2100': [0], '2101': [0], '2102': [0], '2103': [0], '2104': [0], '2105': [0], '2106': [0], '2107': [0], '2108': [0], '2109': [0], '2110': [0], '2111': [0], '2112': [0], '2113': [0], '2114': [0], '2115': [0], '2116': [0], '2117': [0], '2118': [0], '2119': [0], '2120': [0], '2121': [0], '2122': [0], '2123': [0], '2124': [0], '2125': [0], '2126': [0], '2127': [0], '2128': [0], '2129': [0], '2130': [0], '2131': [0], '2132': [0], '2133': [0], '2134': [0], '2135': [0], '2136': [0], '2137': [0], '2138': [0], '2139': [0], '2140': [0], '2141': [0], '2142': [0], '2143': [0], '2144': [0], '2145': [0], '2146': [0], '2147': [0], '2148': [0], '2149': [0], '2150': [0], '2151': [0], '2152': [0], '2153': [0], '2154': [1], '2155': [0], '2156': [0], '2157': [0], '2158': [0], '2159': [0], '2160': [0], '2161': [0], '2162': [0], '2163': [0], '2164': [0], '2165': [0], '2166': [0], '2167': [0], '2168': [0], '2169': [0], '2170': [0], '2171': [0], '2172': [0], '2173': [0], '2174': [0], '2175': [0], '2176': [0], '2177': [0], '2178': [0], '2179': [0], '2180': [0], '2181': [1], '2182': [0], '2183': [0], '2184': [0], '2185': [0], '2186': [0], '2187': [0], '2188': [0], '2189': [0], '2190': [0], '2191': [0], '2192': [0], '2193': [0], '2194': [0], '2195': [0], '2196': [0], '2197': [0], '2198': [2], '2199': [0], '2200': [0], '2201': [0], '2202': [0], '2203': [0], '2204': [0], '2205': [0], '2206': [0], '2207': [0], '2208': [0], '2209': [0], '2210': [0], '2211': [0], '2212': [0], '2213': [0], '2214': [0], '2215': [0], '2216': [0], '2217': [0], '2218': [0], '2219': [0], '2220': [0], '2221': [0], '2222': [0], '2223': [0], '2224': [0], '2225': [0], '2226': [1], '2227': [0], '2228': [0], '2229': [0], '2230': [0], '2231': [0], '2232': [0], '2233': [0], '2234': [0], '2235': [0], '2236': [0], '2237': [0], '2238': [0], '2239': [0], '2240': [0], '2241': [0], '2242': [0], '2243': [0], '2244': [0], '2245': [0], '2246': [0], '2247': [0], '2248': [0], '2249': [0], '2250': [0], '2251': [0], '2252': [0], '2253': [0], '2254': [0], '2255': [0], '2256': [0], '2257': [0], '2258': [0], '2259': [0], '2260': [0], '2261': [0], '2262': [0], '2263': [0], '2264': [0], '2265': [0], '2266': [0], '2267': [0], '2268': [0], '2269': [0], '2270': [0], '2271': [0], '2272': [0], '2273': [0], '2274': [0], '2275': [0], '2276': [0], '2277': [0], '2278': [0], '2279': [0], '2280': [0], '2281': [0], '2282': [0], '2283': [1], '2284': [0], '2285': [0], '2286': [0], '2287': [0], '2288': [0], '2289': [0], '2290': [0], '2291': [0], '2292': [0], '2293': [0], '2294': [0], '2295': [0], '2296': [0], '2297': [0], '2298': [0], '2299': [0], '2300': [0], '2301': [0], '2302': [0], '2303': [0], '2304': [0], '2305': [0], '2306': [0], '2307': [0], '2308': [0], '2309': [0], '2310': [0], '2311': [0], '2312': [0], '2313': [0], '2314': [0], '2315': [0], '2316': [0], '2317': [0], '2318': [0], '2319': [0], '2320': [0], '2321': [0], '2322': [0], '2323': [0], '2324': [0], '2325': [0], '2326': [0], '2327': [0], '2328': [0], '2329': [0], '2330': [0], '2331': [0], '2332': [0], '2333': [0], '2334': [0], '2335': [0], '2336': [0], '2337': [0], '2338': [0], '2339': [0], '2340': [0], '2341': [0], '2342': [0], '2343': [0], '2344': [0], '2345': [0], '2346': [0], '2347': [0], '2348': [0], '2349': [0], '2350': [0], '2351': [0], '2352': [0], '2353': [0], '2354': [0], '2355': [0], '2356': [0], '2357': [0], '2358': [0], '2359': [0], '2360': [0], '2361': [0], '2362': [0], '2363': [0], '2364': [0], '2365': [0], '2366': [0], '2367': [0], '2368': [0], '2369': [0], '2370': [0], '2371': [0], '2372': [0], '2373': [0], '2374': [0], '2375': [0], '2376': [0], '2377': [0], '2378': [0], '2379': [0], '2380': [1], '2381': [0], '2382': [0], '2383': [0], '2384': [0], '2385': [0], '2386': [0], '2387': [0], '2388': [0], '2389': [1], '2390': [0], '2391': [0], '2392': [0], '2393': [0], '2394': [0], '2395': [0], '2396': [0], '2397': [0], '2398': [0], '2399': [0], '2400': [0], '2401': [0], '2402': [0], '2403': [0], '2404': [0], '2405': [0], '2406': [0], '2407': [0], '2408': [0], '2409': [0], '2410': [0], '2411': [0], '2412': [0], '2413': [0], '2414': [0], '2415': [0], '2416': [0], '2417': [0], '2418': [0], '2419': [0], '2420': [0], '2421': [0], '2422': [0], '2423': [0], '2424': [0], '2425': [0], '2426': [0], '2427': [0], '2428': [0], '2429': [0], '2430': [0], '2431': [0], '2432': [0], '2433': [0], '2434': [0], '2435': [0], '2436': [0], '2437': [0], '2438': [0], '2439': [0], '2440': [0], '2441': [0], '2442': [0], '2443': [0], '2444': [0], '2445': [0], '2446': [0], '2447': [0], '2448': [0], '2449': [0], '2450': [0], '2451': [0], '2452': [0], '2453': [0], '2454': [0], '2455': [0], '2456': [0], '2457': [0], '2458': [0], '2459': [0], '2460': [0], '2461': [0], '2462': [0], '2463': [0], '2464': [0], '2465': [0], '2466': [0], '2467': [0], '2468': [0], '2469': [0], '2470': [0], '2471': [0], '2472': [0], '2473': [0], '2474': [0], '2475': [0], '2476': [0], '2477': [0], '2478': [0], '2479': [1], '2480': [0], '2481': [0], '2482': [0], '2483': [0], '2484': [0], '2485': [0], '2486': [0], '2487': [0], '2488': [0], '2489': [0], '2490': [0], '2491': [0], '2492': [0], '2493': [0], '2494': [0], '2495': [0], '2496': [0], '2497': [0], '2498': [0], '2499': [0], '2500': [0], '2501': [0], '2502': [0], '2503': [0], '2504': [0], '2505': [0], '2506': [0], '2507': [0], '2508': [0], '2509': [0], '2510': [0], '2511': [0], '2512': [0], '2513': [0], '2514': [0], '2515': [0], '2516': [0], '2517': [0], '2518': [0], '2519': [0], '2520': [0], '2521': [0], '2522': [0], '2523': [0], '2524': [0], '2525': [0], '2526': [0], '2527': [1], '2528': [0], '2529': [0], '2530': [0], '2531': [0], '2532': [0], '2533': [0], '2534': [0], '2535': [0], '2536': [0], '2537': [0], '2538': [0], '2539': [0], '2540': [0], '2541': [0], '2542': [0], '2543': [0], '2544': [0], '2545': [0], '2546': [0], '2547': [0], '2548': [0], '2549': [0], '2550': [0], '2551': [0], '2552': [0], '2553': [0], '2554': [0], '2555': [0], '2556': [0], '2557': [0], '2558': [0], '2559': [0], '2560': [0], '2561': [0], '2562': [0], '2563': [0], '2564': [0], '2565': [0], '2566': [0], '2567': [0], '2568': [0], '2569': [0], '2570': [0], '2571': [0], '2572': [0], '2573': [0], '2574': [0], '2575': [0], '2576': [0], '2577': [0], '2578': [0], '2579': [0], '2580': [0], '2581': [0], '2582': [0], '2583': [1], '2584': [0], '2585': [0], '2586': [0], '2587': [0], '2588': [0], '2589': [0], '2590': [0], '2591': [0], '2592': [0], '2593': [1], '2594': [0], '2595': [0], '2596': [0], '2597': [0], '2598': [0], '2599': [0], '2600': [0], '2601': [0], '2602': [0], '2603': [0], '2604': [0], '2605': [0], '2606': [0], '2607': [0], '2608': [0], '2609': [0], '2610': [0], '2611': [0], '2612': [0], '2613': [0], '2614': [0], '2615': [0], '2616': [0], '2617': [0], '2618': [0], '2619': [0], '2620': [0], '2621': [0], '2622': [0], '2623': [0], '2624': [0], '2625': [0], '2626': [0], '2627': [0], '2628': [0], '2629': [0], '2630': [0], '2631': [0], '2632': [0], '2633': [0], '2634': [0], '2635': [0], '2636': [0], '2637': [0], '2638': [0], '2639': [0], '2640': [0], '2641': [0], '2642': [0], '2643': [0], '2644': [0], '2645': [0], '2646': [0], '2647': [0], '2648': [0], '2649': [0], '2650': [0], '2651': [0], '2652': [0], '2653': [0], '2654': [0], '2655': [0], '2656': [0], '2657': [0], '2658': [0], '2659': [0], '2660': [0], '2661': [0], '2662': [0], '2663': [0], '2664': [0], '2665': [0], '2666': [0], '2667': [0], '2668': [0], '2669': [0], '2670': [0], '2671': [0], '2672': [0], '2673': [0], '2674': [0], '2675': [0], '2676': [0], '2677': [0], '2678': [0], '2679': [0], '2680': [0], '2681': [0], '2682': [0], '2683': [0], '2684': [0], '2685': [0], '2686': [0], '2687': [0], '2688': [0], '2689': [1], '2690': [0], '2691': [0], '2692': [0], '2693': [0], '2694': [0], '2695': [0], '2696': [0], '2697': [0], '2698': [0], '2699': [0], '2700': [0], '2701': [0], '2702': [0], '2703': [0], '2704': [0], '2705': [0], '2706': [0], '2707': [0], '2708': [0], '2709': [0], '2710': [0], '2711': [0], '2712': [0], '2713': [0], '2714': [0], '2715': [0], '2716': [0], '2717': [0], '2718': [0], '2719': [0], '2720': [0], '2721': [0], '2722': [0], '2723': [0], '2724': [0], '2725': [0], '2726': [0], '2727': [0], '2728': [0], '2729': [0], '2730': [0], '2731': [0], '2732': [0], '2733': [0], '2734': [0], '2735': [0], '2736': [0], '2737': [0], '2738': [0], '2739': [0], '2740': [0], '2741': [0], '2742': [0], '2743': [0], '2744': [0], '2745': [0], '2746': [0], '2747': [0], '2748': [0], '2749': [0], '2750': [0], '2751': [0], '2752': [0], '2753': [0], '2754': [0], '2755': [0], '2756': [0], '2757': [0], '2758': [0], '2759': [0], '2760': [0], '2761': [0], '2762': [0], '2763': [0], '2764': [0], '2765': [0], '2766': [0], '2767': [0], '2768': [0], '2769': [0], '2770': [0], '2771': [0], '2772': [0], '2773': [0], '2774': [0], '2775': [0], '2776': [0], '2777': [1], '2778': [0], '2779': [0], '2780': [0], '2781': [0], '2782': [0], '2783': [0], '2784': [0], '2785': [0], '2786': [0], '2787': [0], '2788': [0], '2789': [0], '2790': [0], '2791': [0], '2792': [0], '2793': [0], '2794': [0], '2795': [0], '2796': [0], '2797': [0], '2798': [0], '2799': [0], '2800': [0], '2801': [0], '2802': [0], '2803': [0], '2804': [0], '2805': [0], '2806': [0], '2807': [0], '2808': [0], '2809': [0], '2810': [0], '2811': [0], '2812': [0], '2813': [0], '2814': [0], '2815': [0], '2816': [0], '2817': [0], '2818': [0], '2819': [0], '2820': [0], '2821': [0], '2822': [0], '2823': [0], '2824': [0], '2825': [0], '2826': [0], '2827': [0], '2828': [0], '2829': [0], '2830': [0], '2831': [0], '2832': [0], '2833': [0], '2834': [0], '2835': [0], '2836': [0], '2837': [0], '2838': [0], '2839': [0], '2840': [0], '2841': [0], '2842': [0], '2843': [0], '2844': [0], '2845': [0], '2846': [0], '2847': [0], '2848': [0], '2849': [0], '2850': [0], '2851': [0], '2852': [1], '2853': [0], '2854': [0], '2855': [0], '2856': [0], '2857': [0], '2858': [0], '2859': [0], '2860': [0], '2861': [0], '2862': [0], '2863': [0], '2864': [0], '2865': [0], '2866': [0], '2867': [0], '2868': [0], '2869': [0], '2870': [0], '2871': [0], '2872': [0], '2873': [0], '2874': [0], '2875': [0], '2876': [0], '2877': [0], '2878': [0], '2879': [0], '2880': [0], '2881': [0], '2882': [0], '2883': [0], '2884': [0], '2885': [0], '2886': [0], '2887': [0], '2888': [0], '2889': [0], '2890': [0], '2891': [0], '2892': [0], '2893': [0], '2894': [0], '2895': [0], '2896': [0], '2897': [0], '2898': [0], '2899': [0], '2900': [0], '2901': [0], '2902': [0], '2903': [0], '2904': [0], '2905': [0], '2906': [0], '2907': [0], '2908': [0], '2909': [0], '2910': [0], '2911': [0], '2912': [0], '2913': [0], '2914': [0], '2915': [0], '2916': [0], '2917': [0], '2918': [0], '2919': [0], '2920': [0], '2921': [0], '2922': [0], '2923': [0], '2924': [0], '2925': [0], '2926': [0], '2927': [0], '2928': [0], '2929': [0], '2930': [1], '2931': [0], '2932': [0], '2933': [0], '2934': [0], '2935': [0], '2936': [0], '2937': [0], '2938': [0], '2939': [0], '2940': [0], '2941': [0], '2942': [0], '2943': [0], '2944': [0], '2945': [0], '2946': [0], '2947': [0], '2948': [0], '2949': [0], '2950': [0], '2951': [0], '2952': [0], '2953': [0], '2954': [0], '2955': [0], '2956': [0], '2957': [0], '2958': [0], '2959': [0], '2960': [0], '2961': [0], '2962': [0], '2963': [0], '2964': [0], '2965': [0], '2966': [0], '2967': [0], '2968': [0], '2969': [0], '2970': [0], '2971': [0], '2972': [0], '2973': [0], '2974': [0], '2975': [0], '2976': [0], '2977': [0], '2978': [0], '2979': [1], '2980': [0], '2981': [0], '2982': [0], '2983': [0], '2984': [0], '2985': [0], '2986': [0], '2987': [0], '2988': [0], '2989': [0], '2990': [0], '2991': [0], '2992': [0], '2993': [0], '2994': [0], '2995': [0], '2996': [0], '2997': [0], '2998': [0], '2999': [0], '3000': [0], '3001': [0], '3002': [0], '3003': [0], '3004': [0], '3005': [0], '3006': [0], '3007': [0], '3008': [0], '3009': [0], '3010': [0], '3011': [0], '3012': [0], '3013': [0], '3014': [0], '3015': [0], '3016': [0], '3017': [0], '3018': [0], '3019': [0], '3020': [0], '3021': [0], '3022': [0], '3023': [0], '3024': [0], '3025': [0], '3026': [0], '3027': [0], '3028': [0], '3029': [0], '3030': [0], '3031': [0], '3032': [0], '3033': [0], '3034': [0], '3035': [0], '3036': [0], '3037': [0], '3038': [0], '3039': [0], '3040': [0], '3041': [0], '3042': [0], '3043': [0], '3044': [0], '3045': [0], '3046': [0], '3047': [0], '3048': [0], '3049': [0], '3050': [0], '3051': [0], '3052': [0], '3053': [0], '3054': [0], '3055': [0], '3056': [0], '3057': [0], '3058': [0], '3059': [0], '3060': [0], '3061': [0], '3062': [0], '3063': [0], '3064': [0], '3065': [0], '3066': [0], '3067': [0], '3068': [0], '3069': [0], '3070': [0], '3071': [0], '3072': [0], '3073': [0], '3074': [0], '3075': [0], '3076': [0], '3077': [0], '3078': [0], '3079': [0], '3080': [0], '3081': [0], '3082': [0], '3083': [0], '3084': [0], '3085': [0], '3086': [0], '3087': [0], '3088': [0], '3089': [0], '3090': [0], '3091': [0], '3092': [0], '3093': [0], '3094': [0], '3095': [0], '3096': [0], '3097': [0], '3098': [0], '3099': [1], '3100': [0], '3101': [0], '3102': [0], '3103': [0], '3104': [0], '3105': [0], '3106': [0], '3107': [0], '3108': [0], '3109': [0], '3110': [0], '3111': [0], '3112': [0], '3113': [0], '3114': [0], '3115': [0], '3116': [0], '3117': [0], '3118': [0], '3119': [0], '3120': [0], '3121': [0], '3122': [0], '3123': [0], '3124': [0], '3125': [0], '3126': [0], '3127': [0], '3128': [0], '3129': [0], '3130': [1], '3131': [0], '3132': [0], '3133': [0], '3134': [0], '3135': [0], '3136': [0], '3137': [0], '3138': [0], '3139': [0], '3140': [0], '3141': [0], '3142': [0], '3143': [0], '3144': [0], '3145': [0], '3146': [0], '3147': [0], '3148': [0], '3149': [0], '3150': [0], '3151': [0], '3152': [0], '3153': [0], '3154': [0], '3155': [0], '3156': [0], '3157': [0], '3158': [0], '3159': [0], '3160': [5], '3161': [0], '3162': [0], '3163': [0], '3164': [0], '3165': [0], '3166': [0], '3167': [0], '3168': [0], '3169': [0], '3170': [0], '3171': [0], '3172': [0], '3173': [0], '3174': [0], '3175': [0], '3176': [0], '3177': [0], '3178': [0], '3179': [0], '3180': [0], '3181': [0], '3182': [0], '3183': [0], '3184': [2], '3185': [0], '3186': [0], '3187': [0], '3188': [0], '3189': [0], '3190': [0], '3191': [0], '3192': [0], '3193': [0], '3194': [0], '3195': [0], '3196': [0], '3197': [0], '3198': [0], '3199': [0], '3200': [0], '3201': [0], '3202': [0], '3203': [0], '3204': [0]})\n",
      "TFIDF Results:\n",
      "Rank 0(0.082): ALGOL Sub-Committee Report - Extensions...\n",
      "Rank 1(0.082): A Report Writer For COBOL...\n",
      "Rank 2(0.082): A CRT Report Generating System...\n",
      "Rank 3(0.068): Supplement to the ALGOL 60 Report...\n",
      "Rank 4(0.058): Report on the Algorithmic Language FORTRAN II...\n"
     ]
    }
   ],
   "source": [
    "####\n",
    "test_naiveql = naive_ql_search(\"report\", index_set=1)[:5]\n",
    "print(f\"TFIDF Results:\")\n",
    "print_results(test_naiveql)\n",
    "####"
   ]
  },
  {
   "cell_type": "code",
   "execution_count": 117,
   "metadata": {},
   "outputs": [
    {
     "data": {
      "text/plain": [
       "('599', 0.0818314354457844)"
      ]
     },
     "execution_count": 117,
     "metadata": {},
     "output_type": "execute_result"
    }
   ],
   "source": [
    "test_naiveql[1]"
   ]
  },
  {
   "cell_type": "code",
   "execution_count": 118,
   "metadata": {},
   "outputs": [
    {
     "data": {
      "text/plain": [
       "('599', 'A Report Writer For COBOL')"
      ]
     },
     "execution_count": 118,
     "metadata": {},
     "output_type": "execute_result"
    }
   ],
   "source": [
    "docs[]"
   ]
  },
  {
   "cell_type": "markdown",
   "metadata": {},
   "source": [
    "Now, let's implement a (slightly more) complex QL model. This model should 'fix' the issue with the previous method. If your model requires hyperparameters, set a reasonable value. "
   ]
  },
  {
   "cell_type": "code",
   "execution_count": null,
   "metadata": {},
   "outputs": [],
   "source": [
    "# TODO: Implement this! 20 points\n",
    "def ql_search(query, index_set):\n",
    "    \"\"\"\n",
    "        Perform a search over all documents with the given query using a appropriate QL model. \n",
    "        Note #1: You have to use the `get_index` (and get_doc_lengths) function created in the previous cells\n",
    "        Note #2: You might have to create some variables beforehand and use them in this function\n",
    "        Input: \n",
    "            query - a (unprocessed) query\n",
    "            index_set - the index to use\n",
    "        Output: a list of (document_id, score), sorted in descending relevance to the given query \n",
    "    \"\"\"\n",
    "    raise NotImplementedError()"
   ]
  },
  {
   "cell_type": "code",
   "execution_count": null,
   "metadata": {},
   "outputs": [],
   "source": [
    "#### Test the QL model\n",
    "test_ql_results = ql_search(\"report\", index_set=1)[:5]\n",
    "print_results(test_ql_results)\n",
    "print()\n",
    "test_ql_results_long = ql_search(\"report \" * 10, index_set=1)[:5]\n",
    "print_results(test_ql_results_long)\n",
    "####"
   ]
  },
  {
   "cell_type": "markdown",
   "metadata": {},
   "source": [
    "*Answer the following questions*: \n",
    "- What happens to the query likelihood for long queries? What is a simple fix for this issue?\n",
    "    - *TODO: Answer this!*"
   ]
  },
  {
   "cell_type": "markdown",
   "metadata": {},
   "source": [
    "\n",
    "--- \n",
    "\n",
    "#### BM25\n",
    "\n",
    "In this section, we will implement the widely used and hard to beat BM25 scoring function. \n"
   ]
  },
  {
   "cell_type": "code",
   "execution_count": null,
   "metadata": {},
   "outputs": [],
   "source": [
    "# TODO: Implement this! (20 points)\n",
    "def bm25_search(query, index_set):\n",
    "    \"\"\"\n",
    "        Perform a search over all documents with the given query using BM25. \n",
    "        Note #1: You have to use the `get_index` (and `get_doc_lengths`) function created in the previous cells\n",
    "        Note #2: You might have to create some variables beforehand and use them in this function\n",
    "        Input: \n",
    "            query - a (unprocessed) query\n",
    "            index_set - the index to use\n",
    "        Output: a list of (document_id, score), sorted in descending relevance to the given query \n",
    "    \"\"\"\n",
    "    \n",
    "    raise NotImplementedError()"
   ]
  },
  {
   "cell_type": "code",
   "execution_count": null,
   "metadata": {},
   "outputs": [],
   "source": [
    "#### Test the BM25 model\n",
    "test_bm25_results = bm25_search(\"report\", index_set=1)[:5]\n",
    "print_results(test_bm25_results)\n",
    "####"
   ]
  },
  {
   "cell_type": "markdown",
   "metadata": {},
   "source": [
    "\n",
    "\n",
    "*Answer the following questions*: \n",
    "- Briefly explain how the BM25 model improves upon the tf-idf model.\n",
    "    - *TODO: Answer this!*\n",
    "    \n",
    "---"
   ]
  },
  {
   "cell_type": "code",
   "execution_count": null,
   "metadata": {},
   "outputs": [],
   "source": [
    "#### Highlighter function\n",
    "# class for results\n",
    "ResultRow = namedtuple(\"ResultRow\", [\"doc_id\", \"snippet\", \"score\"])\n",
    "# doc_id -> doc\n",
    "docs_by_id = dict((d[0], d[1]) for d in docs)\n",
    "\n",
    "def highlight_text(document, query, tol=17):\n",
    "    import re\n",
    "    tokens = tokenize(query)\n",
    "    regex = \"|\".join(f\"(\\\\b{t}\\\\b)\" for t in tokens)\n",
    "    regex = re.compile(regex, flags=re.IGNORECASE)\n",
    "    output = \"\"\n",
    "    i = 0\n",
    "    for m in regex.finditer(document):\n",
    "        start_idx = max(0, m.start() - tol)\n",
    "        end_idx = min(len(document), m.end() + tol)\n",
    "        output += \"\".join([\"...\",\n",
    "                        document[start_idx:m.start()],\n",
    "                        \"<strong>\",\n",
    "                        document[m.start():m.end()],\n",
    "                        \"</strong>\",\n",
    "                        document[m.end():end_idx],\n",
    "                        \"...\"])\n",
    "    return output.replace(\"\\n\", \" \")\n",
    "\n",
    "\n",
    "def make_results(query, search_fn, index_set):\n",
    "    results = []\n",
    "    for doc_id, score in search_fn(query, index_set):\n",
    "        highlight = highlight_text(docs_by_id[doc_id], query)\n",
    "        if len(highlight.strip()) == 0:\n",
    "            highlight = docs_by_id[doc_id]\n",
    "        results.append(ResultRow(doc_id, highlight, score))\n",
    "    return results\n",
    "####"
   ]
  },
  {
   "cell_type": "markdown",
   "metadata": {},
   "source": [
    "---\n",
    "---\n",
    "\n",
    "The widget below allows you to play with the search functions you've written so far. This can be used, for example, to answer some of the theory questions"
   ]
  },
  {
   "cell_type": "code",
   "execution_count": null,
   "metadata": {},
   "outputs": [],
   "source": [
    "# Set this to the function you want to test\n",
    "# this function should take in a query (string)\n",
    "# and return a sorted list of (doc_id, score) \n",
    "# with the most relevant document in the first position\n",
    "search_fn = bm25_search\n",
    "index_set = 1\n",
    "\n",
    "text = widgets.Text(description=\"Search Bar\", width=200)\n",
    "display(text)\n",
    "\n",
    "def handle_submit(sender):\n",
    "    print(f\"Searching for: '{sender.value}'\")\n",
    "    \n",
    "    results = make_results(sender.value, search_fn, index_set)\n",
    "    \n",
    "    # display only the top 5\n",
    "    results = results[:5]\n",
    "    \n",
    "    body = \"\"\n",
    "    for idx, r in enumerate(results):\n",
    "        body += f\"<li>Document #{r.doc_id}({r.score}): {r.snippet}</li>\"\n",
    "    display(HTML(f\"<ul>{body}</ul>\"))\n",
    "    \n",
    "\n",
    "text.on_submit(handle_submit)"
   ]
  },
  {
   "cell_type": "markdown",
   "metadata": {},
   "source": [
    "## Section 4: Offline Evaluation (45 points)\n",
    "\n",
    "Before we jump in and implement an algorithm for retrieval, we first have to learn how to evaluate such a system. In particular, we will work with offline evaluation metrics. These metrics are computed on a dataset with known relevance judgements.\n",
    "\n",
    "Implement the following evaluation metrics. \n",
    "\n",
    "1. Precision\n",
    "2. Recall\n",
    "3. Mean Average Precision\n",
    "4. Expected Reciprocal Rank\n",
    "\n",
    "---\n",
    "*Answer the following questions*: \n",
    "- What are the main limitations of an offline evaluation?\n",
    "    - *TODO: Answer this!*"
   ]
  },
  {
   "cell_type": "markdown",
   "metadata": {},
   "source": [
    "---\n",
    "\n",
    "Let's take a look at the `qrels.text` file, which contains the ground truth relevance scores. The relevance labels for CACM are binary - either 0 or 1. \n"
   ]
  },
  {
   "cell_type": "code",
   "execution_count": null,
   "metadata": {},
   "outputs": [],
   "source": [
    "!head ./datasets/qrels.text"
   ]
  },
  {
   "cell_type": "markdown",
   "metadata": {},
   "source": [
    "The first column is the `query_id` and the second column is the `document_id`. You can safely ignore the 3rd and 4th columns. Write a function to read in the file: "
   ]
  },
  {
   "cell_type": "code",
   "execution_count": null,
   "metadata": {},
   "outputs": [],
   "source": [
    "# TODO: Implement this!\n",
    "def read_qrels(root_folder = \"./datasets/\"):\n",
    "    \"\"\"\n",
    "        Reads the qrels.text file. \n",
    "        Output: A dictionary: query_id -> [list of relevant documents]\n",
    "    \"\"\"\n",
    "    raise NotImplementedError()\n",
    "\n",
    "qrels = read_qrels()"
   ]
  },
  {
   "cell_type": "code",
   "execution_count": null,
   "metadata": {},
   "outputs": [],
   "source": [
    "####\n",
    "assert len(qrels) == 52, \"There should be 52 queries with relevance judgements\"\n",
    "assert sum(len(j) for j in qrels.values()) == 796, \"There should be a total of 796 Relevance Judgements\"\n",
    "####"
   ]
  },
  {
   "cell_type": "markdown",
   "metadata": {},
   "source": [
    "Now, implement the metrics below. \n",
    "\n",
    "**Note:** For a given query `query_id`, you can assume that documents *not* in `qrels[query_id]` are not relevant to `query_id`. \n"
   ]
  },
  {
   "cell_type": "code",
   "execution_count": null,
   "metadata": {},
   "outputs": [],
   "source": [
    "# TODO: Implement this! (10 points)\n",
    "def recall_k(results, relevant_docs, k):\n",
    "    \"\"\"\n",
    "        Compute Recall@K\n",
    "        Input: \n",
    "            results: A sorted list of 2-tuples (document_id, score), with the most relevant document in the first position\n",
    "            relevant_docs: A set of relevant documents. \n",
    "            k: the cut-off\n",
    "        Output: Recall@K\n",
    "    \"\"\"\n",
    "    raise NotImplementedError()\n",
    "    \n",
    "# TODO: Implement this! (10 points)\n",
    "def precision_k(results, relevant_docs, k):\n",
    "    \"\"\"\n",
    "        Compute Precision@K\n",
    "        Input: \n",
    "            results: A sorted list of 2-tuples (document_id, score), \n",
    "                    with the most relevant document in the first position\n",
    "            relevant_docs: A set of relevant documents. \n",
    "            k: the cut-off\n",
    "        Output: Precision@K\n",
    "    \"\"\"\n",
    "    raise NotImplementedError()\n",
    "\n",
    "# TODO: Implement this! (10 points)\n",
    "def average_precision(results, relevant_docs):\n",
    "    \"\"\"\n",
    "        Compute Average Precision (for a single query - the results are \n",
    "        averaged across queries to get MAP in the next few cells)\n",
    "        Hint: You can use the recall_k and precision_k functions here!\n",
    "        Input: \n",
    "            results: A sorted list of 2-tuples (document_id, score), with the most \n",
    "                    relevant document in the first position\n",
    "            relevant_docs: A set of relevant documents. \n",
    "        Output: Average Precision\n",
    "    \"\"\"\n",
    "    raise NotImplementedError()\n",
    "\n",
    "\n",
    "# TODO: Implement this! (15 points)\n",
    "def err(results, relevant_docs):\n",
    "    \"\"\"\n",
    "        Compute the expected reciprocal rank.\n",
    "        Hint: https://dl.acm.org/doi/pdf/10.1145/1645953.1646033?download=true\n",
    "        Input: \n",
    "            results: A sorted list of 2-tuples (document_id, score), with the most \n",
    "                    relevant document in the first position\n",
    "            relevant_docs: A set of relevant documents. \n",
    "        Output: ERR\n",
    "        \n",
    "    \"\"\"\n",
    "    raise NotImplementedError()\n",
    "####"
   ]
  },
  {
   "cell_type": "markdown",
   "metadata": {},
   "source": [
    "*Answer the following questions*: \n",
    "- What are the main drawbacks of precision & recall?\n",
    "    - *TODO: Answer this!*\n",
    "- What problems with Precision@K does Average Precision solve? \n",
    "    - *TODO: Answer this!*\n",
    "- The CACM dataset has *binary* relevance judgements. However, a more suitable way of assigning judgements is to use graded relevance. Mention a metric which might be more suitable for a graded relevance, and breifly explain why. \n",
    "    - *TODO: Answer this!*\n",
    "- Consider a text processing step: stemming. What effect does this have on metrics? (Hint: Try changing the pre-processing config and try it out!)\n",
    "    - *TODO: Answer this!*"
   ]
  },
  {
   "cell_type": "markdown",
   "metadata": {},
   "source": [
    "---\n",
    "\n",
    "Let's define some metrics@k using [partial functions](https://docs.python.org/3/library/functools.html#functools.partial)"
   ]
  },
  {
   "cell_type": "code",
   "execution_count": null,
   "metadata": {},
   "outputs": [],
   "source": [
    "####\n",
    "recall_at_1 = partial(recall_k, k=1)\n",
    "recall_at_5 = partial(recall_k, k=5)\n",
    "recall_at_10 = partial(recall_k, k=10)\n",
    "precision_at_1 = partial(precision_k, k=1)\n",
    "precision_at_5 = partial(precision_k, k=5)\n",
    "precision_at_10 = partial(precision_k, k=10)\n",
    "####"
   ]
  },
  {
   "cell_type": "markdown",
   "metadata": {},
   "source": [
    "---\n",
    "\n",
    "The following function evaluates a `search_fn` using the `metric_fn`. Note that the final number is averaged over all the queries"
   ]
  },
  {
   "cell_type": "code",
   "execution_count": null,
   "metadata": {},
   "outputs": [],
   "source": [
    "####\n",
    "def evaluate_search_fn(search_fn, metric_fn, index_set):\n",
    "    # build a dict query_id -> query \n",
    "    queries_by_id = dict((q[0], q[1]) for q in queries)\n",
    "    \n",
    "    metrics = np.zeros(len(qrels), dtype=np.float32)\n",
    "    for i, (query_id, relevant_docs) in enumerate(qrels.items()):\n",
    "        query = queries_by_id[query_id]\n",
    "        results = search_fn(query, index_set)\n",
    "        metrics[i] = metric_fn(results, relevant_docs)\n",
    "    \n",
    "    return metrics.mean()\n",
    "####"
   ]
  },
  {
   "cell_type": "code",
   "execution_count": null,
   "metadata": {},
   "outputs": [],
   "source": [
    "\n",
    "index_sets = {1, 2}\n",
    "\n",
    "list_of_metrics = [\n",
    "    (\"ERR\", err),\n",
    "    (\"MAP\", average_precision),\n",
    "    (\"Recall@1\",recall_at_1),\n",
    "    (\"Recall@5\", recall_at_5),\n",
    "    (\"Recall@10\", recall_at_10),\n",
    "    (\"Precision@1\", precision_at_1),\n",
    "    (\"Precision@5\", precision_at_5),\n",
    "    (\"Precision@10\", precision_at_10)]\n",
    "\n",
    "list_of_search_fns = [\n",
    "    (\"NaiveQL\", naive_ql_search),\n",
    "    (\"QL\", ql_search),\n",
    "    (\"BM25\", bm25_search),\n",
    "    (\"BOW\", bow_search),\n",
    "    (\"TF-IDF\", tfidf_search)\n",
    "]\n",
    "\n",
    "\n",
    "results = {}\n",
    "for index_set in index_sets:\n",
    "    results[index_set] = {}\n",
    "    print(f\"Index: {index_set}\")\n",
    "    for search_fn_name, search_fn in list_of_search_fns:\n",
    "        print(f\"\\tEvaluating Search Function: {search_fn_name}\")\n",
    "        results[index_set][search_fn_name] = {}\n",
    "        for metric_name, metric_fn in list_of_metrics:\n",
    "            r = evaluate_search_fn(search_fn, metric_fn, index_set).mean()\n",
    "            print(f\"\\t\\tMetric: {metric_name}: {r}\")\n",
    "            results[index_set][search_fn_name][metric_name] = r\n",
    "        print()"
   ]
  },
  {
   "cell_type": "markdown",
   "metadata": {},
   "source": [
    "## Section 5: Results and Analysis (20 points)\n",
    "\n",
    "The `results` dictionary contains the results for all search functions we implemented. Plot the results in bar charts, with clear labels:"
   ]
  },
  {
   "cell_type": "code",
   "execution_count": null,
   "metadata": {},
   "outputs": [],
   "source": [
    "# TODO: Implement this! (20 points)"
   ]
  },
  {
   "cell_type": "markdown",
   "metadata": {},
   "source": [
    "Write a summary of what you observe in the results.\n",
    "You summary should compare results across the 2 indices and the methods being used. State what you expected to see in the results, followed by either supporting evidence *or* justify why the results did not support your expectations.      \n",
    "*Hint*: You may build upon the answers from the previous sections. "
   ]
  },
  {
   "cell_type": "markdown",
   "metadata": {},
   "source": [
    "*TODO: Answer this!*"
   ]
  }
 ],
 "metadata": {
  "kernelspec": {
   "display_name": "ir1--hw1",
   "language": "python",
   "name": "ir1--hw1"
  },
  "language_info": {
   "codemirror_mode": {
    "name": "ipython",
    "version": 3
   },
   "file_extension": ".py",
   "mimetype": "text/x-python",
   "name": "python",
   "nbconvert_exporter": "python",
   "pygments_lexer": "ipython3",
   "version": "3.6.10"
  }
 },
 "nbformat": 4,
 "nbformat_minor": 4
}
